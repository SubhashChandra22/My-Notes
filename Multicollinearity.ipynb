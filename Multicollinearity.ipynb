{
 "cells": [
  {
   "cell_type": "markdown",
   "metadata": {},
   "source": [
    "# What is Multicollinearity?\n"
   ]
  },
  {
   "cell_type": "markdown",
   "metadata": {},
   "source": [
    "In regression, \"multicollinearity\" refers to predictors that are correlated with other predictors. Multicollinearity occurs when your model includes multiple factors that are correlated not just to your response variable, but also to each other. In other words, it results when you have factors that are a bit redundant\n",
    "\n",
    "\n",
    "\n"
   ]
  },
  {
   "cell_type": "markdown",
   "metadata": {},
   "source": [
    "# Difference Between Corelation and Multicollinearity?"
   ]
  },
  {
   "cell_type": "markdown",
   "metadata": {},
   "source": [
    "If you are checking relation of independent variable with target variable then it's correlation.\n",
    "\n",
    "You should drop the columns with zero or near to zero correlation value because zero shows no relationship.\n",
    "\n",
    "\n",
    "\n",
    "If you are checking relation between independent variables then it's multicollinearity.\n",
    "\n",
    "Multi collinearity is not good for dataset, you should drop the column where you see high multicollinearity."
   ]
  },
  {
   "cell_type": "markdown",
   "metadata": {},
   "source": [
    "# How to Handle Multicollinearity?"
   ]
  },
  {
   "cell_type": "code",
   "execution_count": null,
   "metadata": {},
   "outputs": [],
   "source": [
    "if dataset have many number of Features\n",
    "\n",
    "1) Principal Component Analysis (PCA).\n",
    "\n",
    "2) Ridge & Lasso Regression (Regularization Method)\n",
    "\n",
    "3) No data loss in Regularization.\n",
    "\n",
    "\n",
    "If dataset is small\n",
    "\n",
    "3) Drop the feature which is less corelated with target feature and have multicollinearity with other features.\n",
    "\n",
    "4)Heatmap can help it if dataset is small.\n",
    "\n",
    "5) Dataloss more if dataset is small.\n",
    "\n"
   ]
  }
 ],
 "metadata": {
  "kernelspec": {
   "display_name": "Python 3",
   "language": "python",
   "name": "python3"
  },
  "language_info": {
   "codemirror_mode": {
    "name": "ipython",
    "version": 3
   },
   "file_extension": ".py",
   "mimetype": "text/x-python",
   "name": "python",
   "nbconvert_exporter": "python",
   "pygments_lexer": "ipython3",
   "version": "3.8.5"
  }
 },
 "nbformat": 4,
 "nbformat_minor": 4
}
