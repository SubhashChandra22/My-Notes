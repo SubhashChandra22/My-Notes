{
 "cells": [
  {
   "cell_type": "markdown",
   "metadata": {},
   "source": [
    "# Underfitting and OverFitting"
   ]
  },
  {
   "cell_type": "markdown",
   "metadata": {},
   "source": [
    "Overfitting:\n",
    "\n",
    "Overfitting is a modeling error that occurs when a function or model is too closely fit the training set and getting a drastic difference of fitting in test set.\n",
    "\n",
    "\n",
    "\n",
    "1)Good performance on the training data, poor generliazationto other(testing/unknown) data.\n",
    "\n",
    "2)High accuracy for training data, Low accuracy for testing data\n",
    "\n",
    "3)Low Bias High Variance\n",
    "    \n",
    "Underfitting:\n",
    "\n",
    "1)Poor performance on the training data and poor generalization to other(testing/unknown) data.\n",
    "\n",
    "2)Low accuracy for training data, Low accuracy for testing data\n",
    "\n",
    "3)High Bias High Variance"
   ]
  },
  {
   "cell_type": "markdown",
   "metadata": {},
   "source": [
    "# Bias and Variance"
   ]
  },
  {
   "cell_type": "markdown",
   "metadata": {},
   "source": [
    "Bias-> Error of Training data\n",
    "\n",
    "Variance-> Error of Testing data"
   ]
  },
  {
   "cell_type": "markdown",
   "metadata": {},
   "source": [
    "# Best Model\n"
   ]
  },
  {
   "cell_type": "markdown",
   "metadata": {},
   "source": [
    "1)Low Bias ,Low Variance"
   ]
  },
  {
   "cell_type": "markdown",
   "metadata": {},
   "source": [
    "# Decision Tree"
   ]
  },
  {
   "cell_type": "markdown",
   "metadata": {},
   "source": [
    "Low Bias & High variance"
   ]
  },
  {
   "cell_type": "markdown",
   "metadata": {},
   "source": [
    "# Random Forest"
   ]
  },
  {
   "cell_type": "markdown",
   "metadata": {},
   "source": [
    "1) Multiple decision Tree train data samples in parallel(train multiple model in parallel)\n",
    "\n",
    "\n",
    "2) Low bias & Low Variance because it aggregate the accucary of each descision Tree."
   ]
  },
  {
   "cell_type": "markdown",
   "metadata": {},
   "source": [
    "# How to Handle Overfitting in Regression Model?"
   ]
  },
  {
   "cell_type": "markdown",
   "metadata": {},
   "source": [
    "\n",
    "1)Training with more data\n",
    "\n",
    "2)Data Augmentation\n",
    "\n",
    "3)Cross-Validation\n",
    "\n",
    "4)Feature Selection\n",
    "\n",
    "5)Regularization"
   ]
  },
  {
   "cell_type": "markdown",
   "metadata": {},
   "source": [
    "# How to find Overfitting?"
   ]
  },
  {
   "cell_type": "markdown",
   "metadata": {},
   "source": [
    "Read this Link:-\n",
    "https://medium.datadriveninvestor.com/the-problem-of-overfitting-in-regression-and-how-to-avoid-it-dac4d49d836f"
   ]
  }
 ],
 "metadata": {
  "kernelspec": {
   "display_name": "Python 3",
   "language": "python",
   "name": "python3"
  },
  "language_info": {
   "codemirror_mode": {
    "name": "ipython",
    "version": 3
   },
   "file_extension": ".py",
   "mimetype": "text/x-python",
   "name": "python",
   "nbconvert_exporter": "python",
   "pygments_lexer": "ipython3",
   "version": "3.8.5"
  }
 },
 "nbformat": 4,
 "nbformat_minor": 4
}
