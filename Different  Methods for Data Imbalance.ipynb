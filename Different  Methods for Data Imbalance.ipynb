{
 "cells": [
  {
   "cell_type": "code",
   "execution_count": 519,
   "id": "f4fbb23d",
   "metadata": {},
   "outputs": [],
   "source": [
    "## Importing Library\n",
    "\n",
    "import numpy as np\n",
    "import pandas as pd\n",
    "import matplotlib.pyplot as plt\n",
    "import matplotlib.style as style\n",
    "import seaborn as sns\n",
    "%matplotlib inline\n",
    "# Plot Style\n",
    "sns.set_context(\"paper\")\n",
    "style.use('fivethirtyeight')\n",
    "\n",
    "## Sklearn library\n",
    "from sklearn.preprocessing import StandardScaler\n",
    "from sklearn.model_selection import train_test_split,cross_val_score,GridSearchCV\n",
    "from sklearn import metrics\n",
    "from sklearn.linear_model import LogisticRegression\n",
    "from sklearn.tree import DecisionTreeClassifier\n",
    "from sklearn.svm import SVC\n",
    "from sklearn.neighbors import KNeighborsClassifier\n",
    "from sklearn.naive_bayes import GaussianNB\n",
    "from sklearn.ensemble import RandomForestClassifier\n",
    "from sklearn.feature_selection import RFE\n",
    "from sklearn.metrics import precision_score, recall_score,classification_report,accuracy_score,confusion_matrix,roc_auc_score,roc_curve,auc\n",
    "from sklearn.metrics import precision_recall_curve\n",
    "from sklearn.metrics import f1_score\n",
    "\n",
    "## Ignore warnings\n",
    "import warnings\n",
    "warnings.filterwarnings('ignore')"
   ]
  },
  {
   "cell_type": "code",
   "execution_count": 520,
   "id": "f5541b5b",
   "metadata": {},
   "outputs": [],
   "source": [
    "pd.set_option('display.max_columns', 100)\n",
    "pd.set_option('display.max_rows', 100)"
   ]
  },
  {
   "cell_type": "code",
   "execution_count": 521,
   "id": "8ef359bf",
   "metadata": {},
   "outputs": [
    {
     "data": {
      "text/html": [
       "<div>\n",
       "<style scoped>\n",
       "    .dataframe tbody tr th:only-of-type {\n",
       "        vertical-align: middle;\n",
       "    }\n",
       "\n",
       "    .dataframe tbody tr th {\n",
       "        vertical-align: top;\n",
       "    }\n",
       "\n",
       "    .dataframe thead th {\n",
       "        text-align: right;\n",
       "    }\n",
       "</style>\n",
       "<table border=\"1\" class=\"dataframe\">\n",
       "  <thead>\n",
       "    <tr style=\"text-align: right;\">\n",
       "      <th></th>\n",
       "      <th>ID</th>\n",
       "      <th>Gender</th>\n",
       "      <th>Age</th>\n",
       "      <th>Region_Code</th>\n",
       "      <th>Occupation</th>\n",
       "      <th>Channel_Code</th>\n",
       "      <th>Vintage</th>\n",
       "      <th>Credit_Product</th>\n",
       "      <th>Avg_Account_Balance</th>\n",
       "      <th>Is_Active</th>\n",
       "      <th>Is_Lead</th>\n",
       "    </tr>\n",
       "  </thead>\n",
       "  <tbody>\n",
       "    <tr>\n",
       "      <th>0</th>\n",
       "      <td>NNVBBKZB</td>\n",
       "      <td>Female</td>\n",
       "      <td>73</td>\n",
       "      <td>RG268</td>\n",
       "      <td>Other</td>\n",
       "      <td>X3</td>\n",
       "      <td>43</td>\n",
       "      <td>No</td>\n",
       "      <td>1045696</td>\n",
       "      <td>No</td>\n",
       "      <td>0</td>\n",
       "    </tr>\n",
       "    <tr>\n",
       "      <th>1</th>\n",
       "      <td>IDD62UNG</td>\n",
       "      <td>Female</td>\n",
       "      <td>30</td>\n",
       "      <td>RG277</td>\n",
       "      <td>Salaried</td>\n",
       "      <td>X1</td>\n",
       "      <td>32</td>\n",
       "      <td>No</td>\n",
       "      <td>581988</td>\n",
       "      <td>No</td>\n",
       "      <td>0</td>\n",
       "    </tr>\n",
       "    <tr>\n",
       "      <th>2</th>\n",
       "      <td>HD3DSEMC</td>\n",
       "      <td>Female</td>\n",
       "      <td>56</td>\n",
       "      <td>RG268</td>\n",
       "      <td>Self_Employed</td>\n",
       "      <td>X3</td>\n",
       "      <td>26</td>\n",
       "      <td>No</td>\n",
       "      <td>1484315</td>\n",
       "      <td>Yes</td>\n",
       "      <td>0</td>\n",
       "    </tr>\n",
       "    <tr>\n",
       "      <th>3</th>\n",
       "      <td>BF3NC7KV</td>\n",
       "      <td>Male</td>\n",
       "      <td>34</td>\n",
       "      <td>RG270</td>\n",
       "      <td>Salaried</td>\n",
       "      <td>X1</td>\n",
       "      <td>19</td>\n",
       "      <td>No</td>\n",
       "      <td>470454</td>\n",
       "      <td>No</td>\n",
       "      <td>0</td>\n",
       "    </tr>\n",
       "    <tr>\n",
       "      <th>4</th>\n",
       "      <td>TEASRWXV</td>\n",
       "      <td>Female</td>\n",
       "      <td>30</td>\n",
       "      <td>RG282</td>\n",
       "      <td>Salaried</td>\n",
       "      <td>X1</td>\n",
       "      <td>33</td>\n",
       "      <td>No</td>\n",
       "      <td>886787</td>\n",
       "      <td>No</td>\n",
       "      <td>0</td>\n",
       "    </tr>\n",
       "  </tbody>\n",
       "</table>\n",
       "</div>"
      ],
      "text/plain": [
       "         ID  Gender  Age Region_Code     Occupation Channel_Code  Vintage  \\\n",
       "0  NNVBBKZB  Female   73       RG268          Other           X3       43   \n",
       "1  IDD62UNG  Female   30       RG277       Salaried           X1       32   \n",
       "2  HD3DSEMC  Female   56       RG268  Self_Employed           X3       26   \n",
       "3  BF3NC7KV    Male   34       RG270       Salaried           X1       19   \n",
       "4  TEASRWXV  Female   30       RG282       Salaried           X1       33   \n",
       "\n",
       "  Credit_Product  Avg_Account_Balance Is_Active  Is_Lead  \n",
       "0             No              1045696        No        0  \n",
       "1             No               581988        No        0  \n",
       "2             No              1484315       Yes        0  \n",
       "3             No               470454        No        0  \n",
       "4             No               886787        No        0  "
      ]
     },
     "execution_count": 521,
     "metadata": {},
     "output_type": "execute_result"
    }
   ],
   "source": [
    "df_train = pd.read_csv(\"train_s3TEQDk.csv\")\n",
    "df_train.head()"
   ]
  },
  {
   "cell_type": "markdown",
   "id": "be92d418",
   "metadata": {},
   "source": [
    "# Inspect Dataframe"
   ]
  },
  {
   "cell_type": "code",
   "execution_count": 522,
   "id": "dbe26bed",
   "metadata": {},
   "outputs": [
    {
     "name": "stdout",
     "output_type": "stream",
     "text": [
      "Database dimension     : (245725, 11)\n",
      "Database size          : 2702975\n",
      "Number of Row          : 245725\n",
      "Number of Columns      : 11\n"
     ]
    }
   ],
   "source": [
    "#database dimension\n",
    "print(\"Database dimension     :\",df_train.shape)\n",
    "print(\"Database size          :\",df_train.size)\n",
    "print(\"Number of Row          :\",len(df_train.index))\n",
    "print(\"Number of Columns      :\",len(df_train.columns))"
   ]
  },
  {
   "cell_type": "code",
   "execution_count": 523,
   "id": "61a9651f",
   "metadata": {},
   "outputs": [
    {
     "name": "stdout",
     "output_type": "stream",
     "text": [
      "<class 'pandas.core.frame.DataFrame'>\n",
      "RangeIndex: 245725 entries, 0 to 245724\n",
      "Data columns (total 11 columns):\n",
      " #   Column               Non-Null Count   Dtype \n",
      "---  ------               --------------   ----- \n",
      " 0   ID                   245725 non-null  object\n",
      " 1   Gender               245725 non-null  object\n",
      " 2   Age                  245725 non-null  int64 \n",
      " 3   Region_Code          245725 non-null  object\n",
      " 4   Occupation           245725 non-null  object\n",
      " 5   Channel_Code         245725 non-null  object\n",
      " 6   Vintage              245725 non-null  int64 \n",
      " 7   Credit_Product       216400 non-null  object\n",
      " 8   Avg_Account_Balance  245725 non-null  int64 \n",
      " 9   Is_Active            245725 non-null  object\n",
      " 10  Is_Lead              245725 non-null  int64 \n",
      "dtypes: int64(4), object(7)\n",
      "memory usage: 20.6+ MB\n"
     ]
    }
   ],
   "source": [
    "#info about the column types etc. \n",
    "df_train.info()"
   ]
  },
  {
   "cell_type": "markdown",
   "id": "60a4b99a",
   "metadata": {},
   "source": [
    "# Null Value Calculation"
   ]
  },
  {
   "cell_type": "code",
   "execution_count": 524,
   "id": "178ed208",
   "metadata": {},
   "outputs": [
    {
     "data": {
      "text/html": [
       "<div>\n",
       "<style scoped>\n",
       "    .dataframe tbody tr th:only-of-type {\n",
       "        vertical-align: middle;\n",
       "    }\n",
       "\n",
       "    .dataframe tbody tr th {\n",
       "        vertical-align: top;\n",
       "    }\n",
       "\n",
       "    .dataframe thead th {\n",
       "        text-align: right;\n",
       "    }\n",
       "</style>\n",
       "<table border=\"1\" class=\"dataframe\">\n",
       "  <thead>\n",
       "    <tr style=\"text-align: right;\">\n",
       "      <th></th>\n",
       "      <th>Column Name</th>\n",
       "      <th>Null Values</th>\n",
       "      <th>Null Values Percentage</th>\n",
       "    </tr>\n",
       "  </thead>\n",
       "  <tbody>\n",
       "    <tr>\n",
       "      <th>7</th>\n",
       "      <td>Credit_Product</td>\n",
       "      <td>29325</td>\n",
       "      <td>11.93</td>\n",
       "    </tr>\n",
       "    <tr>\n",
       "      <th>0</th>\n",
       "      <td>ID</td>\n",
       "      <td>0</td>\n",
       "      <td>0.00</td>\n",
       "    </tr>\n",
       "    <tr>\n",
       "      <th>1</th>\n",
       "      <td>Gender</td>\n",
       "      <td>0</td>\n",
       "      <td>0.00</td>\n",
       "    </tr>\n",
       "    <tr>\n",
       "      <th>2</th>\n",
       "      <td>Age</td>\n",
       "      <td>0</td>\n",
       "      <td>0.00</td>\n",
       "    </tr>\n",
       "    <tr>\n",
       "      <th>3</th>\n",
       "      <td>Region_Code</td>\n",
       "      <td>0</td>\n",
       "      <td>0.00</td>\n",
       "    </tr>\n",
       "    <tr>\n",
       "      <th>4</th>\n",
       "      <td>Occupation</td>\n",
       "      <td>0</td>\n",
       "      <td>0.00</td>\n",
       "    </tr>\n",
       "    <tr>\n",
       "      <th>5</th>\n",
       "      <td>Channel_Code</td>\n",
       "      <td>0</td>\n",
       "      <td>0.00</td>\n",
       "    </tr>\n",
       "    <tr>\n",
       "      <th>6</th>\n",
       "      <td>Vintage</td>\n",
       "      <td>0</td>\n",
       "      <td>0.00</td>\n",
       "    </tr>\n",
       "    <tr>\n",
       "      <th>8</th>\n",
       "      <td>Avg_Account_Balance</td>\n",
       "      <td>0</td>\n",
       "      <td>0.00</td>\n",
       "    </tr>\n",
       "    <tr>\n",
       "      <th>9</th>\n",
       "      <td>Is_Active</td>\n",
       "      <td>0</td>\n",
       "      <td>0.00</td>\n",
       "    </tr>\n",
       "    <tr>\n",
       "      <th>10</th>\n",
       "      <td>Is_Lead</td>\n",
       "      <td>0</td>\n",
       "      <td>0.00</td>\n",
       "    </tr>\n",
       "  </tbody>\n",
       "</table>\n",
       "</div>"
      ],
      "text/plain": [
       "            Column Name  Null Values  Null Values Percentage\n",
       "7        Credit_Product        29325                   11.93\n",
       "0                    ID            0                    0.00\n",
       "1                Gender            0                    0.00\n",
       "2                   Age            0                    0.00\n",
       "3           Region_Code            0                    0.00\n",
       "4            Occupation            0                    0.00\n",
       "5          Channel_Code            0                    0.00\n",
       "6               Vintage            0                    0.00\n",
       "8   Avg_Account_Balance            0                    0.00\n",
       "9             Is_Active            0                    0.00\n",
       "10              Is_Lead            0                    0.00"
      ]
     },
     "execution_count": 524,
     "metadata": {},
     "output_type": "execute_result"
    }
   ],
   "source": [
    "#Column wise Null Value calculate\n",
    "#Column wise null values in train data set \n",
    "null_perc = pd.DataFrame(round((df_train.isnull().sum())*100/df_train.shape[0],2)).reset_index()\n",
    "null_perc.columns = ['Column Name', 'Null Values Percentage']\n",
    "null_value = pd.DataFrame(df_train.isnull().sum()).reset_index()\n",
    "null_value.columns = ['Column Name', 'Null Values']\n",
    "null_lead = pd.merge(null_value, null_perc, on='Column Name')\n",
    "null_lead.sort_values(\"Null Values\", ascending = False)"
   ]
  },
  {
   "cell_type": "code",
   "execution_count": 525,
   "id": "c60517dc",
   "metadata": {},
   "outputs": [
    {
     "data": {
      "text/plain": [
       "<AxesSubplot:>"
      ]
     },
     "execution_count": 525,
     "metadata": {},
     "output_type": "execute_result"
    },
    {
     "data": {
      "image/png": "[encoded data removed]",
      "text/plain": [
       "<Figure size 1080x576 with 2 Axes>"
      ]
     },
     "metadata": {},
     "output_type": "display_data"
    }
   ],
   "source": [
    "plt.figure(figsize=(15,8))\n",
    "sns.heatmap(df_train.isnull())"
   ]
  },
  {
   "cell_type": "markdown",
   "id": "e1b8aba0",
   "metadata": {},
   "source": [
    "# Duplicate Analysis"
   ]
  },
  {
   "cell_type": "code",
   "execution_count": 526,
   "id": "a6b2713e",
   "metadata": {},
   "outputs": [
    {
     "name": "stdout",
     "output_type": "stream",
     "text": [
      "Total number of duplicate values in ID column : 0\n",
      "Total number of duplicate values in Region_Code column : 245690\n",
      "Total number of duplicate values in Channel_Code column : 245721\n"
     ]
    }
   ],
   "source": [
    "print(\"Total number of duplicate values in ID column :\" , df_train.duplicated(subset = 'ID').sum())\n",
    "print(\"Total number of duplicate values in Region_Code column :\" , df_train.duplicated(subset = 'Region_Code').sum())\n",
    "print(\"Total number of duplicate values in Channel_Code column :\" , df_train.duplicated(subset = 'Channel_Code').sum())\n"
   ]
  },
  {
   "cell_type": "markdown",
   "id": "a3e1f4eb",
   "metadata": {},
   "source": [
    "# Data Cleaning"
   ]
  },
  {
   "cell_type": "code",
   "execution_count": 527,
   "id": "93679050",
   "metadata": {},
   "outputs": [],
   "source": [
    "cols_to_drop=['ID']\n",
    "## Dropping the unnecessary columns\n",
    "df_train.drop(cols_to_drop,axis=1,inplace=True)"
   ]
  },
  {
   "cell_type": "code",
   "execution_count": 528,
   "id": "c9d0bfb1",
   "metadata": {},
   "outputs": [
    {
     "data": {
      "text/html": [
       "<div>\n",
       "<style scoped>\n",
       "    .dataframe tbody tr th:only-of-type {\n",
       "        vertical-align: middle;\n",
       "    }\n",
       "\n",
       "    .dataframe tbody tr th {\n",
       "        vertical-align: top;\n",
       "    }\n",
       "\n",
       "    .dataframe thead th {\n",
       "        text-align: right;\n",
       "    }\n",
       "</style>\n",
       "<table border=\"1\" class=\"dataframe\">\n",
       "  <thead>\n",
       "    <tr style=\"text-align: right;\">\n",
       "      <th></th>\n",
       "      <th>Gender</th>\n",
       "      <th>Age</th>\n",
       "      <th>Region_Code</th>\n",
       "      <th>Occupation</th>\n",
       "      <th>Channel_Code</th>\n",
       "      <th>Vintage</th>\n",
       "      <th>Credit_Product</th>\n",
       "      <th>Avg_Account_Balance</th>\n",
       "      <th>Is_Active</th>\n",
       "      <th>Is_Lead</th>\n",
       "    </tr>\n",
       "  </thead>\n",
       "  <tbody>\n",
       "    <tr>\n",
       "      <th>0</th>\n",
       "      <td>Female</td>\n",
       "      <td>73</td>\n",
       "      <td>RG268</td>\n",
       "      <td>Other</td>\n",
       "      <td>X3</td>\n",
       "      <td>43</td>\n",
       "      <td>No</td>\n",
       "      <td>1045696</td>\n",
       "      <td>No</td>\n",
       "      <td>0</td>\n",
       "    </tr>\n",
       "    <tr>\n",
       "      <th>1</th>\n",
       "      <td>Female</td>\n",
       "      <td>30</td>\n",
       "      <td>RG277</td>\n",
       "      <td>Salaried</td>\n",
       "      <td>X1</td>\n",
       "      <td>32</td>\n",
       "      <td>No</td>\n",
       "      <td>581988</td>\n",
       "      <td>No</td>\n",
       "      <td>0</td>\n",
       "    </tr>\n",
       "    <tr>\n",
       "      <th>2</th>\n",
       "      <td>Female</td>\n",
       "      <td>56</td>\n",
       "      <td>RG268</td>\n",
       "      <td>Self_Employed</td>\n",
       "      <td>X3</td>\n",
       "      <td>26</td>\n",
       "      <td>No</td>\n",
       "      <td>1484315</td>\n",
       "      <td>Yes</td>\n",
       "      <td>0</td>\n",
       "    </tr>\n",
       "    <tr>\n",
       "      <th>3</th>\n",
       "      <td>Male</td>\n",
       "      <td>34</td>\n",
       "      <td>RG270</td>\n",
       "      <td>Salaried</td>\n",
       "      <td>X1</td>\n",
       "      <td>19</td>\n",
       "      <td>No</td>\n",
       "      <td>470454</td>\n",
       "      <td>No</td>\n",
       "      <td>0</td>\n",
       "    </tr>\n",
       "    <tr>\n",
       "      <th>4</th>\n",
       "      <td>Female</td>\n",
       "      <td>30</td>\n",
       "      <td>RG282</td>\n",
       "      <td>Salaried</td>\n",
       "      <td>X1</td>\n",
       "      <td>33</td>\n",
       "      <td>No</td>\n",
       "      <td>886787</td>\n",
       "      <td>No</td>\n",
       "      <td>0</td>\n",
       "    </tr>\n",
       "    <tr>\n",
       "      <th>...</th>\n",
       "      <td>...</td>\n",
       "      <td>...</td>\n",
       "      <td>...</td>\n",
       "      <td>...</td>\n",
       "      <td>...</td>\n",
       "      <td>...</td>\n",
       "      <td>...</td>\n",
       "      <td>...</td>\n",
       "      <td>...</td>\n",
       "      <td>...</td>\n",
       "    </tr>\n",
       "    <tr>\n",
       "      <th>245720</th>\n",
       "      <td>Male</td>\n",
       "      <td>51</td>\n",
       "      <td>RG284</td>\n",
       "      <td>Self_Employed</td>\n",
       "      <td>X3</td>\n",
       "      <td>109</td>\n",
       "      <td>NaN</td>\n",
       "      <td>1925586</td>\n",
       "      <td>No</td>\n",
       "      <td>0</td>\n",
       "    </tr>\n",
       "    <tr>\n",
       "      <th>245721</th>\n",
       "      <td>Male</td>\n",
       "      <td>27</td>\n",
       "      <td>RG268</td>\n",
       "      <td>Salaried</td>\n",
       "      <td>X1</td>\n",
       "      <td>15</td>\n",
       "      <td>No</td>\n",
       "      <td>862952</td>\n",
       "      <td>Yes</td>\n",
       "      <td>0</td>\n",
       "    </tr>\n",
       "    <tr>\n",
       "      <th>245722</th>\n",
       "      <td>Female</td>\n",
       "      <td>26</td>\n",
       "      <td>RG281</td>\n",
       "      <td>Salaried</td>\n",
       "      <td>X1</td>\n",
       "      <td>13</td>\n",
       "      <td>No</td>\n",
       "      <td>670659</td>\n",
       "      <td>No</td>\n",
       "      <td>0</td>\n",
       "    </tr>\n",
       "    <tr>\n",
       "      <th>245723</th>\n",
       "      <td>Female</td>\n",
       "      <td>28</td>\n",
       "      <td>RG273</td>\n",
       "      <td>Salaried</td>\n",
       "      <td>X1</td>\n",
       "      <td>31</td>\n",
       "      <td>No</td>\n",
       "      <td>407504</td>\n",
       "      <td>No</td>\n",
       "      <td>0</td>\n",
       "    </tr>\n",
       "    <tr>\n",
       "      <th>245724</th>\n",
       "      <td>Male</td>\n",
       "      <td>29</td>\n",
       "      <td>RG269</td>\n",
       "      <td>Salaried</td>\n",
       "      <td>X1</td>\n",
       "      <td>21</td>\n",
       "      <td>No</td>\n",
       "      <td>1129276</td>\n",
       "      <td>No</td>\n",
       "      <td>0</td>\n",
       "    </tr>\n",
       "  </tbody>\n",
       "</table>\n",
       "<p>245725 rows × 10 columns</p>\n",
       "</div>"
      ],
      "text/plain": [
       "        Gender  Age Region_Code     Occupation Channel_Code  Vintage  \\\n",
       "0       Female   73       RG268          Other           X3       43   \n",
       "1       Female   30       RG277       Salaried           X1       32   \n",
       "2       Female   56       RG268  Self_Employed           X3       26   \n",
       "3         Male   34       RG270       Salaried           X1       19   \n",
       "4       Female   30       RG282       Salaried           X1       33   \n",
       "...        ...  ...         ...            ...          ...      ...   \n",
       "245720    Male   51       RG284  Self_Employed           X3      109   \n",
       "245721    Male   27       RG268       Salaried           X1       15   \n",
       "245722  Female   26       RG281       Salaried           X1       13   \n",
       "245723  Female   28       RG273       Salaried           X1       31   \n",
       "245724    Male   29       RG269       Salaried           X1       21   \n",
       "\n",
       "       Credit_Product  Avg_Account_Balance Is_Active  Is_Lead  \n",
       "0                  No              1045696        No        0  \n",
       "1                  No               581988        No        0  \n",
       "2                  No              1484315       Yes        0  \n",
       "3                  No               470454        No        0  \n",
       "4                  No               886787        No        0  \n",
       "...               ...                  ...       ...      ...  \n",
       "245720            NaN              1925586        No        0  \n",
       "245721             No               862952       Yes        0  \n",
       "245722             No               670659        No        0  \n",
       "245723             No               407504        No        0  \n",
       "245724             No              1129276        No        0  \n",
       "\n",
       "[245725 rows x 10 columns]"
      ]
     },
     "execution_count": 528,
     "metadata": {},
     "output_type": "execute_result"
    }
   ],
   "source": [
    "df_train"
   ]
  },
  {
   "cell_type": "markdown",
   "id": "ca6233d3",
   "metadata": {},
   "source": [
    "# Segregating Categorical & Numerical Values"
   ]
  },
  {
   "cell_type": "code",
   "execution_count": 529,
   "id": "65fbcdc3",
   "metadata": {},
   "outputs": [],
   "source": [
    "categorical_col=df_train.select_dtypes(exclude=['number'])\n",
    "numerical_col=df_train.select_dtypes(include=['number'])"
   ]
  },
  {
   "cell_type": "markdown",
   "id": "8f72a3b2",
   "metadata": {},
   "source": [
    "# Categorical Column Analysis\n"
   ]
  },
  {
   "cell_type": "code",
   "execution_count": 530,
   "id": "5138abbf",
   "metadata": {},
   "outputs": [
    {
     "data": {
      "text/html": [
       "<div>\n",
       "<style scoped>\n",
       "    .dataframe tbody tr th:only-of-type {\n",
       "        vertical-align: middle;\n",
       "    }\n",
       "\n",
       "    .dataframe tbody tr th {\n",
       "        vertical-align: top;\n",
       "    }\n",
       "\n",
       "    .dataframe thead th {\n",
       "        text-align: right;\n",
       "    }\n",
       "</style>\n",
       "<table border=\"1\" class=\"dataframe\">\n",
       "  <thead>\n",
       "    <tr style=\"text-align: right;\">\n",
       "      <th></th>\n",
       "      <th>Gender</th>\n",
       "      <th>Region_Code</th>\n",
       "      <th>Occupation</th>\n",
       "      <th>Channel_Code</th>\n",
       "      <th>Credit_Product</th>\n",
       "      <th>Is_Active</th>\n",
       "    </tr>\n",
       "  </thead>\n",
       "  <tbody>\n",
       "    <tr>\n",
       "      <th>0</th>\n",
       "      <td>Female</td>\n",
       "      <td>RG268</td>\n",
       "      <td>Other</td>\n",
       "      <td>X3</td>\n",
       "      <td>No</td>\n",
       "      <td>No</td>\n",
       "    </tr>\n",
       "    <tr>\n",
       "      <th>1</th>\n",
       "      <td>Female</td>\n",
       "      <td>RG277</td>\n",
       "      <td>Salaried</td>\n",
       "      <td>X1</td>\n",
       "      <td>No</td>\n",
       "      <td>No</td>\n",
       "    </tr>\n",
       "    <tr>\n",
       "      <th>2</th>\n",
       "      <td>Female</td>\n",
       "      <td>RG268</td>\n",
       "      <td>Self_Employed</td>\n",
       "      <td>X3</td>\n",
       "      <td>No</td>\n",
       "      <td>Yes</td>\n",
       "    </tr>\n",
       "    <tr>\n",
       "      <th>3</th>\n",
       "      <td>Male</td>\n",
       "      <td>RG270</td>\n",
       "      <td>Salaried</td>\n",
       "      <td>X1</td>\n",
       "      <td>No</td>\n",
       "      <td>No</td>\n",
       "    </tr>\n",
       "    <tr>\n",
       "      <th>4</th>\n",
       "      <td>Female</td>\n",
       "      <td>RG282</td>\n",
       "      <td>Salaried</td>\n",
       "      <td>X1</td>\n",
       "      <td>No</td>\n",
       "      <td>No</td>\n",
       "    </tr>\n",
       "    <tr>\n",
       "      <th>...</th>\n",
       "      <td>...</td>\n",
       "      <td>...</td>\n",
       "      <td>...</td>\n",
       "      <td>...</td>\n",
       "      <td>...</td>\n",
       "      <td>...</td>\n",
       "    </tr>\n",
       "    <tr>\n",
       "      <th>245720</th>\n",
       "      <td>Male</td>\n",
       "      <td>RG284</td>\n",
       "      <td>Self_Employed</td>\n",
       "      <td>X3</td>\n",
       "      <td>NaN</td>\n",
       "      <td>No</td>\n",
       "    </tr>\n",
       "    <tr>\n",
       "      <th>245721</th>\n",
       "      <td>Male</td>\n",
       "      <td>RG268</td>\n",
       "      <td>Salaried</td>\n",
       "      <td>X1</td>\n",
       "      <td>No</td>\n",
       "      <td>Yes</td>\n",
       "    </tr>\n",
       "    <tr>\n",
       "      <th>245722</th>\n",
       "      <td>Female</td>\n",
       "      <td>RG281</td>\n",
       "      <td>Salaried</td>\n",
       "      <td>X1</td>\n",
       "      <td>No</td>\n",
       "      <td>No</td>\n",
       "    </tr>\n",
       "    <tr>\n",
       "      <th>245723</th>\n",
       "      <td>Female</td>\n",
       "      <td>RG273</td>\n",
       "      <td>Salaried</td>\n",
       "      <td>X1</td>\n",
       "      <td>No</td>\n",
       "      <td>No</td>\n",
       "    </tr>\n",
       "    <tr>\n",
       "      <th>245724</th>\n",
       "      <td>Male</td>\n",
       "      <td>RG269</td>\n",
       "      <td>Salaried</td>\n",
       "      <td>X1</td>\n",
       "      <td>No</td>\n",
       "      <td>No</td>\n",
       "    </tr>\n",
       "  </tbody>\n",
       "</table>\n",
       "<p>245725 rows × 6 columns</p>\n",
       "</div>"
      ],
      "text/plain": [
       "        Gender Region_Code     Occupation Channel_Code Credit_Product  \\\n",
       "0       Female       RG268          Other           X3             No   \n",
       "1       Female       RG277       Salaried           X1             No   \n",
       "2       Female       RG268  Self_Employed           X3             No   \n",
       "3         Male       RG270       Salaried           X1             No   \n",
       "4       Female       RG282       Salaried           X1             No   \n",
       "...        ...         ...            ...          ...            ...   \n",
       "245720    Male       RG284  Self_Employed           X3            NaN   \n",
       "245721    Male       RG268       Salaried           X1             No   \n",
       "245722  Female       RG281       Salaried           X1             No   \n",
       "245723  Female       RG273       Salaried           X1             No   \n",
       "245724    Male       RG269       Salaried           X1             No   \n",
       "\n",
       "       Is_Active  \n",
       "0             No  \n",
       "1             No  \n",
       "2            Yes  \n",
       "3             No  \n",
       "4             No  \n",
       "...          ...  \n",
       "245720        No  \n",
       "245721       Yes  \n",
       "245722        No  \n",
       "245723        No  \n",
       "245724        No  \n",
       "\n",
       "[245725 rows x 6 columns]"
      ]
     },
     "execution_count": 530,
     "metadata": {},
     "output_type": "execute_result"
    }
   ],
   "source": [
    "categorical_col"
   ]
  },
  {
   "cell_type": "code",
   "execution_count": 531,
   "id": "7996ad92",
   "metadata": {},
   "outputs": [],
   "source": [
    "def Cat_info(df,categorical_column):\n",
    "    df_result=pd.DataFrame(columns=[\"columns\",\"values\",\"unique_values\",\"null_values\",\"null_percent\"])\n",
    "    \n",
    "    df_temp=pd.DataFrame()\n",
    "    for value in categorical_column:\n",
    "        df_temp['columns']=[value]\n",
    "        df_temp['values']=[df[value].unique()]\n",
    "        df_temp[\"unique_values\"]=df[value].nunique()\n",
    "        df_temp[\"null_values\"] = df[value].isna().sum()\n",
    "        df_temp[\"null_percent\"] = (df[value].isna().sum()/len(df)*100).round(1)\n",
    "        df_result = df_result.append(df_temp)\n",
    "    df_result.sort_values(\"null_values\", ascending =False, inplace=True)\n",
    "    df_result.set_index(\"columns\", inplace=True)\n",
    "    return df_result"
   ]
  },
  {
   "cell_type": "code",
   "execution_count": 532,
   "id": "3e089bca",
   "metadata": {},
   "outputs": [
    {
     "data": {
      "text/html": [
       "<div>\n",
       "<style scoped>\n",
       "    .dataframe tbody tr th:only-of-type {\n",
       "        vertical-align: middle;\n",
       "    }\n",
       "\n",
       "    .dataframe tbody tr th {\n",
       "        vertical-align: top;\n",
       "    }\n",
       "\n",
       "    .dataframe thead th {\n",
       "        text-align: right;\n",
       "    }\n",
       "</style>\n",
       "<table border=\"1\" class=\"dataframe\">\n",
       "  <thead>\n",
       "    <tr style=\"text-align: right;\">\n",
       "      <th></th>\n",
       "      <th>values</th>\n",
       "      <th>unique_values</th>\n",
       "      <th>null_values</th>\n",
       "      <th>null_percent</th>\n",
       "    </tr>\n",
       "    <tr>\n",
       "      <th>columns</th>\n",
       "      <th></th>\n",
       "      <th></th>\n",
       "      <th></th>\n",
       "      <th></th>\n",
       "    </tr>\n",
       "  </thead>\n",
       "  <tbody>\n",
       "    <tr>\n",
       "      <th>Credit_Product</th>\n",
       "      <td>[No, nan, Yes]</td>\n",
       "      <td>2</td>\n",
       "      <td>29325</td>\n",
       "      <td>11.9</td>\n",
       "    </tr>\n",
       "    <tr>\n",
       "      <th>Gender</th>\n",
       "      <td>[Female, Male]</td>\n",
       "      <td>2</td>\n",
       "      <td>0</td>\n",
       "      <td>0.0</td>\n",
       "    </tr>\n",
       "    <tr>\n",
       "      <th>Region_Code</th>\n",
       "      <td>[RG268, RG277, RG270, RG282, RG261, RG265, RG2...</td>\n",
       "      <td>35</td>\n",
       "      <td>0</td>\n",
       "      <td>0.0</td>\n",
       "    </tr>\n",
       "    <tr>\n",
       "      <th>Occupation</th>\n",
       "      <td>[Other, Salaried, Self_Employed, Entrepreneur]</td>\n",
       "      <td>4</td>\n",
       "      <td>0</td>\n",
       "      <td>0.0</td>\n",
       "    </tr>\n",
       "    <tr>\n",
       "      <th>Channel_Code</th>\n",
       "      <td>[X3, X1, X2, X4]</td>\n",
       "      <td>4</td>\n",
       "      <td>0</td>\n",
       "      <td>0.0</td>\n",
       "    </tr>\n",
       "    <tr>\n",
       "      <th>Is_Active</th>\n",
       "      <td>[No, Yes]</td>\n",
       "      <td>2</td>\n",
       "      <td>0</td>\n",
       "      <td>0.0</td>\n",
       "    </tr>\n",
       "  </tbody>\n",
       "</table>\n",
       "</div>"
      ],
      "text/plain": [
       "                                                           values  \\\n",
       "columns                                                             \n",
       "Credit_Product                                     [No, nan, Yes]   \n",
       "Gender                                             [Female, Male]   \n",
       "Region_Code     [RG268, RG277, RG270, RG282, RG261, RG265, RG2...   \n",
       "Occupation         [Other, Salaried, Self_Employed, Entrepreneur]   \n",
       "Channel_Code                                     [X3, X1, X2, X4]   \n",
       "Is_Active                                               [No, Yes]   \n",
       "\n",
       "               unique_values null_values  null_percent  \n",
       "columns                                                 \n",
       "Credit_Product             2       29325          11.9  \n",
       "Gender                     2           0           0.0  \n",
       "Region_Code               35           0           0.0  \n",
       "Occupation                 4           0           0.0  \n",
       "Channel_Code               4           0           0.0  \n",
       "Is_Active                  2           0           0.0  "
      ]
     },
     "execution_count": 532,
     "metadata": {},
     "output_type": "execute_result"
    }
   ],
   "source": [
    "df_cat = Cat_info(df_train, categorical_col)\n",
    "df_cat"
   ]
  },
  {
   "cell_type": "code",
   "execution_count": 533,
   "id": "97658588",
   "metadata": {},
   "outputs": [],
   "source": [
    "df_train.replace(np.nan,'unknown',inplace=True)"
   ]
  },
  {
   "cell_type": "code",
   "execution_count": 534,
   "id": "4c9a018e",
   "metadata": {},
   "outputs": [
    {
     "data": {
      "text/plain": [
       "array(['No', 'unknown', 'Yes'], dtype=object)"
      ]
     },
     "execution_count": 534,
     "metadata": {},
     "output_type": "execute_result"
    }
   ],
   "source": [
    "df_train['Credit_Product'].unique()"
   ]
  },
  {
   "cell_type": "code",
   "execution_count": 535,
   "id": "4942bd91",
   "metadata": {},
   "outputs": [
    {
     "data": {
      "text/plain": [
       "Gender                 0\n",
       "Age                    0\n",
       "Region_Code            0\n",
       "Occupation             0\n",
       "Channel_Code           0\n",
       "Vintage                0\n",
       "Credit_Product         0\n",
       "Avg_Account_Balance    0\n",
       "Is_Active              0\n",
       "Is_Lead                0\n",
       "dtype: int64"
      ]
     },
     "execution_count": 535,
     "metadata": {},
     "output_type": "execute_result"
    }
   ],
   "source": [
    "df_train.isnull().sum()"
   ]
  },
  {
   "cell_type": "markdown",
   "id": "3c8d5675",
   "metadata": {},
   "source": [
    "# Numerical Columns Null Value Treatment"
   ]
  },
  {
   "cell_type": "code",
   "execution_count": 536,
   "id": "2b90558c",
   "metadata": {},
   "outputs": [],
   "source": [
    "# Checking unique values and null values for the categorical columns\n",
    "def Num_info(df, numeric_column):\n",
    "    df_result = pd.DataFrame(columns=[\"columns\",\"null_values\",\"null_percent\",\"Skewness\"])\n",
    "    \n",
    "    df_temp=pd.DataFrame()\n",
    "    for value in numeric_column:\n",
    "        df_temp[\"columns\"] = [value]\n",
    "        df_temp[\"Skewness\"] = df[value].skew()\n",
    "        df_temp[\"null_values\"] = df[value].isna().sum()\n",
    "        df_temp[\"null_percent\"] = (df[value].isna().sum()/len(df)*100).round(1)\n",
    "        df_result = df_result.append(df_temp)\n",
    "    \n",
    "    df_result.sort_values(\"null_values\", ascending =False, inplace=True)\n",
    "    df_result.set_index(\"columns\", inplace=True)\n",
    "    return df_result"
   ]
  },
  {
   "cell_type": "code",
   "execution_count": 537,
   "id": "b3d592a6",
   "metadata": {},
   "outputs": [
    {
     "data": {
      "text/html": [
       "<div>\n",
       "<style scoped>\n",
       "    .dataframe tbody tr th:only-of-type {\n",
       "        vertical-align: middle;\n",
       "    }\n",
       "\n",
       "    .dataframe tbody tr th {\n",
       "        vertical-align: top;\n",
       "    }\n",
       "\n",
       "    .dataframe thead th {\n",
       "        text-align: right;\n",
       "    }\n",
       "</style>\n",
       "<table border=\"1\" class=\"dataframe\">\n",
       "  <thead>\n",
       "    <tr style=\"text-align: right;\">\n",
       "      <th></th>\n",
       "      <th>null_values</th>\n",
       "      <th>null_percent</th>\n",
       "      <th>Skewness</th>\n",
       "    </tr>\n",
       "    <tr>\n",
       "      <th>columns</th>\n",
       "      <th></th>\n",
       "      <th></th>\n",
       "      <th></th>\n",
       "    </tr>\n",
       "  </thead>\n",
       "  <tbody>\n",
       "    <tr>\n",
       "      <th>Age</th>\n",
       "      <td>0</td>\n",
       "      <td>0.0</td>\n",
       "      <td>0.618992</td>\n",
       "    </tr>\n",
       "    <tr>\n",
       "      <th>Vintage</th>\n",
       "      <td>0</td>\n",
       "      <td>0.0</td>\n",
       "      <td>0.790189</td>\n",
       "    </tr>\n",
       "    <tr>\n",
       "      <th>Avg_Account_Balance</th>\n",
       "      <td>0</td>\n",
       "      <td>0.0</td>\n",
       "      <td>2.968727</td>\n",
       "    </tr>\n",
       "    <tr>\n",
       "      <th>Is_Lead</th>\n",
       "      <td>0</td>\n",
       "      <td>0.0</td>\n",
       "      <td>1.235596</td>\n",
       "    </tr>\n",
       "  </tbody>\n",
       "</table>\n",
       "</div>"
      ],
      "text/plain": [
       "                    null_values  null_percent  Skewness\n",
       "columns                                                \n",
       "Age                           0           0.0  0.618992\n",
       "Vintage                       0           0.0  0.790189\n",
       "Avg_Account_Balance           0           0.0  2.968727\n",
       "Is_Lead                       0           0.0  1.235596"
      ]
     },
     "execution_count": 537,
     "metadata": {},
     "output_type": "execute_result"
    }
   ],
   "source": [
    "df_num = Num_info(df_train,numerical_col)\n",
    "df_num"
   ]
  },
  {
   "cell_type": "code",
   "execution_count": 538,
   "id": "14f6077f",
   "metadata": {},
   "outputs": [
    {
     "data": {
      "text/plain": [
       "<AxesSubplot:xlabel='Age'>"
      ]
     },
     "execution_count": 538,
     "metadata": {},
     "output_type": "execute_result"
    },
    {
     "data": {
      "image/png": "[encoded data removed]",
      "text/plain": [
       "<Figure size 864x432 with 2 Axes>"
      ]
     },
     "metadata": {},
     "output_type": "display_data"
    }
   ],
   "source": [
    "plt.figure(figsize=(12,6))\n",
    "plt.subplot(1,2,1)\n",
    "sns.distplot(lead['Age'])\n",
    "plt.subplot(1,2,2)\n",
    "sns.boxplot(lead['Age'])"
   ]
  },
  {
   "cell_type": "code",
   "execution_count": 539,
   "id": "4a082c05",
   "metadata": {},
   "outputs": [
    {
     "data": {
      "text/plain": [
       "<AxesSubplot:xlabel='Vintage'>"
      ]
     },
     "execution_count": 539,
     "metadata": {},
     "output_type": "execute_result"
    },
    {
     "data": {
      "image/png": "[encoded data removed]",
      "text/plain": [
       "<Figure size 864x432 with 2 Axes>"
      ]
     },
     "metadata": {},
     "output_type": "display_data"
    }
   ],
   "source": [
    "plt.figure(figsize=(12,6))\n",
    "plt.subplot(1,2,1)\n",
    "sns.distplot(lead['Vintage'])\n",
    "plt.subplot(1,2,2)\n",
    "sns.boxplot(lead['Vintage'])"
   ]
  },
  {
   "cell_type": "code",
   "execution_count": 540,
   "id": "9b5217f4",
   "metadata": {},
   "outputs": [
    {
     "data": {
      "text/plain": [
       "<AxesSubplot:xlabel='Avg_Account_Balance'>"
      ]
     },
     "execution_count": 540,
     "metadata": {},
     "output_type": "execute_result"
    },
    {
     "data": {
      "image/png": "[encoded data removed]",
      "text/plain": [
       "<Figure size 864x432 with 2 Axes>"
      ]
     },
     "metadata": {},
     "output_type": "display_data"
    }
   ],
   "source": [
    "plt.figure(figsize=(12,6))\n",
    "plt.subplot(1,2,1)\n",
    "sns.distplot(lead['Avg_Account_Balance'])\n",
    "plt.subplot(1,2,2)\n",
    "sns.boxplot(lead['Avg_Account_Balance'])"
   ]
  },
  {
   "cell_type": "markdown",
   "id": "02adc0d3",
   "metadata": {},
   "source": [
    "# 5. Exploratory Data Analysis"
   ]
  },
  {
   "cell_type": "code",
   "execution_count": 541,
   "id": "f1064f97",
   "metadata": {},
   "outputs": [
    {
     "data": {
      "image/png": "[encoded data removed]",
      "text/plain": [
       "<Figure size 720x432 with 1 Axes>"
      ]
     },
     "metadata": {},
     "output_type": "display_data"
    }
   ],
   "source": [
    "labels = 'No','Yes'\n",
    "lead['Is_Lead'].astype(str).value_counts().plot(kind='pie',\n",
    "                            figsize=(10, 6),\n",
    "                            autopct='%1.1f%%', \n",
    "                            startangle=90,    \n",
    "                            shadow=True,       \n",
    "                            labels=None,                                \n",
    "                            )\n",
    "\n",
    "plt.title('Distribution of Lead Approval', y=1.12) \n",
    "plt.axis('equal') \n",
    "# add legend\n",
    "plt.legend(labels=labels, loc='upper left') \n",
    " # show plot\n",
    "plt.show()"
   ]
  },
  {
   "cell_type": "markdown",
   "id": "83a6c2bc",
   "metadata": {},
   "source": [
    "# Data Preparation"
   ]
  },
  {
   "cell_type": "markdown",
   "id": "64fdf746",
   "metadata": {},
   "source": [
    "Convert Binary Categories"
   ]
  },
  {
   "cell_type": "code",
   "execution_count": 542,
   "id": "846978dc",
   "metadata": {},
   "outputs": [
    {
     "data": {
      "text/html": [
       "<div>\n",
       "<style scoped>\n",
       "    .dataframe tbody tr th:only-of-type {\n",
       "        vertical-align: middle;\n",
       "    }\n",
       "\n",
       "    .dataframe tbody tr th {\n",
       "        vertical-align: top;\n",
       "    }\n",
       "\n",
       "    .dataframe thead th {\n",
       "        text-align: right;\n",
       "    }\n",
       "</style>\n",
       "<table border=\"1\" class=\"dataframe\">\n",
       "  <thead>\n",
       "    <tr style=\"text-align: right;\">\n",
       "      <th></th>\n",
       "      <th>Gender</th>\n",
       "      <th>Region_Code</th>\n",
       "      <th>Occupation</th>\n",
       "      <th>Channel_Code</th>\n",
       "      <th>Credit_Product</th>\n",
       "      <th>Is_Active</th>\n",
       "    </tr>\n",
       "  </thead>\n",
       "  <tbody>\n",
       "    <tr>\n",
       "      <th>0</th>\n",
       "      <td>Female</td>\n",
       "      <td>RG268</td>\n",
       "      <td>Other</td>\n",
       "      <td>X3</td>\n",
       "      <td>No</td>\n",
       "      <td>No</td>\n",
       "    </tr>\n",
       "    <tr>\n",
       "      <th>1</th>\n",
       "      <td>Female</td>\n",
       "      <td>RG277</td>\n",
       "      <td>Salaried</td>\n",
       "      <td>X1</td>\n",
       "      <td>No</td>\n",
       "      <td>No</td>\n",
       "    </tr>\n",
       "    <tr>\n",
       "      <th>2</th>\n",
       "      <td>Female</td>\n",
       "      <td>RG268</td>\n",
       "      <td>Self_Employed</td>\n",
       "      <td>X3</td>\n",
       "      <td>No</td>\n",
       "      <td>Yes</td>\n",
       "    </tr>\n",
       "    <tr>\n",
       "      <th>3</th>\n",
       "      <td>Male</td>\n",
       "      <td>RG270</td>\n",
       "      <td>Salaried</td>\n",
       "      <td>X1</td>\n",
       "      <td>No</td>\n",
       "      <td>No</td>\n",
       "    </tr>\n",
       "    <tr>\n",
       "      <th>4</th>\n",
       "      <td>Female</td>\n",
       "      <td>RG282</td>\n",
       "      <td>Salaried</td>\n",
       "      <td>X1</td>\n",
       "      <td>No</td>\n",
       "      <td>No</td>\n",
       "    </tr>\n",
       "    <tr>\n",
       "      <th>...</th>\n",
       "      <td>...</td>\n",
       "      <td>...</td>\n",
       "      <td>...</td>\n",
       "      <td>...</td>\n",
       "      <td>...</td>\n",
       "      <td>...</td>\n",
       "    </tr>\n",
       "    <tr>\n",
       "      <th>245720</th>\n",
       "      <td>Male</td>\n",
       "      <td>RG284</td>\n",
       "      <td>Self_Employed</td>\n",
       "      <td>X3</td>\n",
       "      <td>NaN</td>\n",
       "      <td>No</td>\n",
       "    </tr>\n",
       "    <tr>\n",
       "      <th>245721</th>\n",
       "      <td>Male</td>\n",
       "      <td>RG268</td>\n",
       "      <td>Salaried</td>\n",
       "      <td>X1</td>\n",
       "      <td>No</td>\n",
       "      <td>Yes</td>\n",
       "    </tr>\n",
       "    <tr>\n",
       "      <th>245722</th>\n",
       "      <td>Female</td>\n",
       "      <td>RG281</td>\n",
       "      <td>Salaried</td>\n",
       "      <td>X1</td>\n",
       "      <td>No</td>\n",
       "      <td>No</td>\n",
       "    </tr>\n",
       "    <tr>\n",
       "      <th>245723</th>\n",
       "      <td>Female</td>\n",
       "      <td>RG273</td>\n",
       "      <td>Salaried</td>\n",
       "      <td>X1</td>\n",
       "      <td>No</td>\n",
       "      <td>No</td>\n",
       "    </tr>\n",
       "    <tr>\n",
       "      <th>245724</th>\n",
       "      <td>Male</td>\n",
       "      <td>RG269</td>\n",
       "      <td>Salaried</td>\n",
       "      <td>X1</td>\n",
       "      <td>No</td>\n",
       "      <td>No</td>\n",
       "    </tr>\n",
       "  </tbody>\n",
       "</table>\n",
       "<p>245725 rows × 6 columns</p>\n",
       "</div>"
      ],
      "text/plain": [
       "        Gender Region_Code     Occupation Channel_Code Credit_Product  \\\n",
       "0       Female       RG268          Other           X3             No   \n",
       "1       Female       RG277       Salaried           X1             No   \n",
       "2       Female       RG268  Self_Employed           X3             No   \n",
       "3         Male       RG270       Salaried           X1             No   \n",
       "4       Female       RG282       Salaried           X1             No   \n",
       "...        ...         ...            ...          ...            ...   \n",
       "245720    Male       RG284  Self_Employed           X3            NaN   \n",
       "245721    Male       RG268       Salaried           X1             No   \n",
       "245722  Female       RG281       Salaried           X1             No   \n",
       "245723  Female       RG273       Salaried           X1             No   \n",
       "245724    Male       RG269       Salaried           X1             No   \n",
       "\n",
       "       Is_Active  \n",
       "0             No  \n",
       "1             No  \n",
       "2            Yes  \n",
       "3             No  \n",
       "4             No  \n",
       "...          ...  \n",
       "245720        No  \n",
       "245721       Yes  \n",
       "245722        No  \n",
       "245723        No  \n",
       "245724        No  \n",
       "\n",
       "[245725 rows x 6 columns]"
      ]
     },
     "execution_count": 542,
     "metadata": {},
     "output_type": "execute_result"
    }
   ],
   "source": [
    "categorical_col"
   ]
  },
  {
   "cell_type": "markdown",
   "id": "0b68adc9",
   "metadata": {},
   "source": [
    "# Label Encoding"
   ]
  },
  {
   "cell_type": "code",
   "execution_count": 543,
   "id": "22e64e88",
   "metadata": {},
   "outputs": [],
   "source": [
    "le=LabelEncoder()\n",
    "for col in categorical_col.columns:\n",
    "         df_train[col]=le.fit_transform(df_train[col])"
   ]
  },
  {
   "cell_type": "code",
   "execution_count": 544,
   "id": "462653ec",
   "metadata": {},
   "outputs": [
    {
     "data": {
      "text/html": [
       "<div>\n",
       "<style scoped>\n",
       "    .dataframe tbody tr th:only-of-type {\n",
       "        vertical-align: middle;\n",
       "    }\n",
       "\n",
       "    .dataframe tbody tr th {\n",
       "        vertical-align: top;\n",
       "    }\n",
       "\n",
       "    .dataframe thead th {\n",
       "        text-align: right;\n",
       "    }\n",
       "</style>\n",
       "<table border=\"1\" class=\"dataframe\">\n",
       "  <thead>\n",
       "    <tr style=\"text-align: right;\">\n",
       "      <th></th>\n",
       "      <th>Gender</th>\n",
       "      <th>Age</th>\n",
       "      <th>Region_Code</th>\n",
       "      <th>Occupation</th>\n",
       "      <th>Channel_Code</th>\n",
       "      <th>Vintage</th>\n",
       "      <th>Credit_Product</th>\n",
       "      <th>Avg_Account_Balance</th>\n",
       "      <th>Is_Active</th>\n",
       "      <th>Is_Lead</th>\n",
       "    </tr>\n",
       "  </thead>\n",
       "  <tbody>\n",
       "    <tr>\n",
       "      <th>0</th>\n",
       "      <td>0</td>\n",
       "      <td>73</td>\n",
       "      <td>18</td>\n",
       "      <td>1</td>\n",
       "      <td>2</td>\n",
       "      <td>43</td>\n",
       "      <td>0</td>\n",
       "      <td>1045696</td>\n",
       "      <td>0</td>\n",
       "      <td>0</td>\n",
       "    </tr>\n",
       "    <tr>\n",
       "      <th>1</th>\n",
       "      <td>0</td>\n",
       "      <td>30</td>\n",
       "      <td>27</td>\n",
       "      <td>2</td>\n",
       "      <td>0</td>\n",
       "      <td>32</td>\n",
       "      <td>0</td>\n",
       "      <td>581988</td>\n",
       "      <td>0</td>\n",
       "      <td>0</td>\n",
       "    </tr>\n",
       "    <tr>\n",
       "      <th>2</th>\n",
       "      <td>0</td>\n",
       "      <td>56</td>\n",
       "      <td>18</td>\n",
       "      <td>3</td>\n",
       "      <td>2</td>\n",
       "      <td>26</td>\n",
       "      <td>0</td>\n",
       "      <td>1484315</td>\n",
       "      <td>1</td>\n",
       "      <td>0</td>\n",
       "    </tr>\n",
       "    <tr>\n",
       "      <th>3</th>\n",
       "      <td>1</td>\n",
       "      <td>34</td>\n",
       "      <td>20</td>\n",
       "      <td>2</td>\n",
       "      <td>0</td>\n",
       "      <td>19</td>\n",
       "      <td>0</td>\n",
       "      <td>470454</td>\n",
       "      <td>0</td>\n",
       "      <td>0</td>\n",
       "    </tr>\n",
       "    <tr>\n",
       "      <th>4</th>\n",
       "      <td>0</td>\n",
       "      <td>30</td>\n",
       "      <td>32</td>\n",
       "      <td>2</td>\n",
       "      <td>0</td>\n",
       "      <td>33</td>\n",
       "      <td>0</td>\n",
       "      <td>886787</td>\n",
       "      <td>0</td>\n",
       "      <td>0</td>\n",
       "    </tr>\n",
       "    <tr>\n",
       "      <th>...</th>\n",
       "      <td>...</td>\n",
       "      <td>...</td>\n",
       "      <td>...</td>\n",
       "      <td>...</td>\n",
       "      <td>...</td>\n",
       "      <td>...</td>\n",
       "      <td>...</td>\n",
       "      <td>...</td>\n",
       "      <td>...</td>\n",
       "      <td>...</td>\n",
       "    </tr>\n",
       "    <tr>\n",
       "      <th>245720</th>\n",
       "      <td>1</td>\n",
       "      <td>51</td>\n",
       "      <td>34</td>\n",
       "      <td>3</td>\n",
       "      <td>2</td>\n",
       "      <td>109</td>\n",
       "      <td>2</td>\n",
       "      <td>1925586</td>\n",
       "      <td>0</td>\n",
       "      <td>0</td>\n",
       "    </tr>\n",
       "    <tr>\n",
       "      <th>245721</th>\n",
       "      <td>1</td>\n",
       "      <td>27</td>\n",
       "      <td>18</td>\n",
       "      <td>2</td>\n",
       "      <td>0</td>\n",
       "      <td>15</td>\n",
       "      <td>0</td>\n",
       "      <td>862952</td>\n",
       "      <td>1</td>\n",
       "      <td>0</td>\n",
       "    </tr>\n",
       "    <tr>\n",
       "      <th>245722</th>\n",
       "      <td>0</td>\n",
       "      <td>26</td>\n",
       "      <td>31</td>\n",
       "      <td>2</td>\n",
       "      <td>0</td>\n",
       "      <td>13</td>\n",
       "      <td>0</td>\n",
       "      <td>670659</td>\n",
       "      <td>0</td>\n",
       "      <td>0</td>\n",
       "    </tr>\n",
       "    <tr>\n",
       "      <th>245723</th>\n",
       "      <td>0</td>\n",
       "      <td>28</td>\n",
       "      <td>23</td>\n",
       "      <td>2</td>\n",
       "      <td>0</td>\n",
       "      <td>31</td>\n",
       "      <td>0</td>\n",
       "      <td>407504</td>\n",
       "      <td>0</td>\n",
       "      <td>0</td>\n",
       "    </tr>\n",
       "    <tr>\n",
       "      <th>245724</th>\n",
       "      <td>1</td>\n",
       "      <td>29</td>\n",
       "      <td>19</td>\n",
       "      <td>2</td>\n",
       "      <td>0</td>\n",
       "      <td>21</td>\n",
       "      <td>0</td>\n",
       "      <td>1129276</td>\n",
       "      <td>0</td>\n",
       "      <td>0</td>\n",
       "    </tr>\n",
       "  </tbody>\n",
       "</table>\n",
       "<p>245725 rows × 10 columns</p>\n",
       "</div>"
      ],
      "text/plain": [
       "        Gender  Age  Region_Code  Occupation  Channel_Code  Vintage  \\\n",
       "0            0   73           18           1             2       43   \n",
       "1            0   30           27           2             0       32   \n",
       "2            0   56           18           3             2       26   \n",
       "3            1   34           20           2             0       19   \n",
       "4            0   30           32           2             0       33   \n",
       "...        ...  ...          ...         ...           ...      ...   \n",
       "245720       1   51           34           3             2      109   \n",
       "245721       1   27           18           2             0       15   \n",
       "245722       0   26           31           2             0       13   \n",
       "245723       0   28           23           2             0       31   \n",
       "245724       1   29           19           2             0       21   \n",
       "\n",
       "        Credit_Product  Avg_Account_Balance  Is_Active  Is_Lead  \n",
       "0                    0              1045696          0        0  \n",
       "1                    0               581988          0        0  \n",
       "2                    0              1484315          1        0  \n",
       "3                    0               470454          0        0  \n",
       "4                    0               886787          0        0  \n",
       "...                ...                  ...        ...      ...  \n",
       "245720               2              1925586          0        0  \n",
       "245721               0               862952          1        0  \n",
       "245722               0               670659          0        0  \n",
       "245723               0               407504          0        0  \n",
       "245724               0              1129276          0        0  \n",
       "\n",
       "[245725 rows x 10 columns]"
      ]
     },
     "execution_count": 544,
     "metadata": {},
     "output_type": "execute_result"
    }
   ],
   "source": [
    "df_train"
   ]
  },
  {
   "cell_type": "markdown",
   "id": "32cd4d4e",
   "metadata": {},
   "source": [
    "# Train - Test Split"
   ]
  },
  {
   "cell_type": "code",
   "execution_count": 545,
   "id": "6b409943",
   "metadata": {},
   "outputs": [
    {
     "name": "stdout",
     "output_type": "stream",
     "text": [
      "0    187437\n",
      "1     58288\n",
      "Name: Is_Lead, dtype: int64\n",
      "(245725, 9)\n",
      "(245725,)\n"
     ]
    }
   ],
   "source": [
    "# target variable\n",
    "Y = df_train['Is_Lead']\n",
    "X = df_train.drop(['Is_Lead'], axis=1)\n",
    "\n",
    "\n",
    "print(Y.value_counts())\n",
    "print(X.shape)\n",
    "print(Y.shape)"
   ]
  },
  {
   "cell_type": "markdown",
   "id": "53cc0c9b",
   "metadata": {},
   "source": [
    "# Model Function"
   ]
  },
  {
   "cell_type": "code",
   "execution_count": 546,
   "id": "7006c91a",
   "metadata": {},
   "outputs": [],
   "source": [
    " def best_model(clf,X,Y):  \n",
    "    x_train,x_test,y_train,y_test=train_test_split(X,Y,test_size=.20,stratify=Y,random_state=42)\n",
    "    clf.fit(x_train,y_train)\n",
    "    print(\"Training Accuracy:\",clf.score(x_train,y_train))\n",
    "    print(\"Testing Accuracy:\",clf.score(x_test,y_test))\n",
    "    pred=clf.predict(x_test)\n",
    "    print(\"Accuracy Score:\",accuracy_score(y_test,pred))\n",
    "    print(\"Mean Accuracy:\",cross_val_score(clf,X,Y,scoring='roc_auc',cv=5).mean())\n",
    "    print(\"Roc Auc Score:\",roc_auc_score(y_test,pred))\n",
    "    print(\"Precsion Score:\",precision_score(y_test,pred))\n",
    "    print(\"Recall Score:\",recall_score(y_test,pred))\n",
    "    print(\"F_1 Score:\",f1_score(y_test,pred))\n",
    "\n",
    "\n",
    "    print(\"Classification Report \\n\",classification_report(y_test,pred))\n",
    "    print('Confusion Matrix',confusion_matrix(y_test,pred))\n",
    "    prob=clf.predict_proba(x_test)[:,1]\n",
    "    fpr,tpr,thresholds=roc_curve(y_test,prob,pos_label=True)\n",
    "\n",
    "    #plotting the graph for area under curve for representing accuracy of data\n",
    "    plt.plot([0,1],[1,0],'g--')\n",
    "    plt.plot(Fpr,Tpr)\n",
    "    plt.xlabel('False_Positive_Rate')\n",
    "    plt.ylabel('True_Positive_Rate')\n",
    "    plt.title(\"Logistic Regression\")\n",
    "    plt.show()"
   ]
  },
  {
   "cell_type": "markdown",
   "id": "c88f2fe7",
   "metadata": {},
   "source": [
    "# Training Model Without Standard Scaling"
   ]
  },
  {
   "cell_type": "code",
   "execution_count": 547,
   "id": "e4258201",
   "metadata": {},
   "outputs": [
    {
     "name": "stdout",
     "output_type": "stream",
     "text": [
      "Training Accuracy: 0.7627937735273171\n",
      "Testing Accuracy: 0.7627835995523451\n",
      "Accuracy Score: 0.7627835995523451\n",
      "Mean Accuracy: 0.44742658075559627\n",
      "Roc Auc Score: 0.5\n",
      "Precsion Score: 0.0\n",
      "Recall Score: 0.0\n",
      "F_1 Score: 0.0\n",
      "Classification Report \n",
      "               precision    recall  f1-score   support\n",
      "\n",
      "           0       0.76      1.00      0.87     37487\n",
      "           1       0.00      0.00      0.00     11658\n",
      "\n",
      "    accuracy                           0.76     49145\n",
      "   macro avg       0.38      0.50      0.43     49145\n",
      "weighted avg       0.58      0.76      0.66     49145\n",
      "\n",
      "Confusion Matrix [[37487     0]\n",
      " [11658     0]]\n"
     ]
    },
    {
     "data": {
      "image/png": "[encoded data removed]",
      "text/plain": [
       "<Figure size 432x288 with 1 Axes>"
      ]
     },
     "metadata": {},
     "output_type": "display_data"
    }
   ],
   "source": [
    "lr=LogisticRegression()\n",
    "best_model(lr,X,Y)"
   ]
  },
  {
   "cell_type": "markdown",
   "id": "d04520e9",
   "metadata": {},
   "source": [
    "# Training Model With Statndard Scaling"
   ]
  },
  {
   "cell_type": "code",
   "execution_count": 548,
   "id": "67b03846",
   "metadata": {},
   "outputs": [
    {
     "data": {
      "text/html": [
       "<div>\n",
       "<style scoped>\n",
       "    .dataframe tbody tr th:only-of-type {\n",
       "        vertical-align: middle;\n",
       "    }\n",
       "\n",
       "    .dataframe tbody tr th {\n",
       "        vertical-align: top;\n",
       "    }\n",
       "\n",
       "    .dataframe thead th {\n",
       "        text-align: right;\n",
       "    }\n",
       "</style>\n",
       "<table border=\"1\" class=\"dataframe\">\n",
       "  <thead>\n",
       "    <tr style=\"text-align: right;\">\n",
       "      <th></th>\n",
       "      <th>Gender</th>\n",
       "      <th>Age</th>\n",
       "      <th>Region_Code</th>\n",
       "      <th>Occupation</th>\n",
       "      <th>Channel_Code</th>\n",
       "      <th>Vintage</th>\n",
       "      <th>Credit_Product</th>\n",
       "      <th>Avg_Account_Balance</th>\n",
       "      <th>Is_Active</th>\n",
       "    </tr>\n",
       "  </thead>\n",
       "  <tbody>\n",
       "    <tr>\n",
       "      <th>0</th>\n",
       "      <td>0</td>\n",
       "      <td>73</td>\n",
       "      <td>18</td>\n",
       "      <td>1</td>\n",
       "      <td>2</td>\n",
       "      <td>43</td>\n",
       "      <td>0</td>\n",
       "      <td>1045696</td>\n",
       "      <td>0</td>\n",
       "    </tr>\n",
       "    <tr>\n",
       "      <th>1</th>\n",
       "      <td>0</td>\n",
       "      <td>30</td>\n",
       "      <td>27</td>\n",
       "      <td>2</td>\n",
       "      <td>0</td>\n",
       "      <td>32</td>\n",
       "      <td>0</td>\n",
       "      <td>581988</td>\n",
       "      <td>0</td>\n",
       "    </tr>\n",
       "  </tbody>\n",
       "</table>\n",
       "</div>"
      ],
      "text/plain": [
       "   Gender  Age  Region_Code  Occupation  Channel_Code  Vintage  \\\n",
       "0       0   73           18           1             2       43   \n",
       "1       0   30           27           2             0       32   \n",
       "\n",
       "   Credit_Product  Avg_Account_Balance  Is_Active  \n",
       "0               0              1045696          0  \n",
       "1               0               581988          0  "
      ]
     },
     "execution_count": 548,
     "metadata": {},
     "output_type": "execute_result"
    }
   ],
   "source": [
    "X.head(2)"
   ]
  },
  {
   "cell_type": "code",
   "execution_count": 549,
   "id": "8c853114",
   "metadata": {},
   "outputs": [
    {
     "data": {
      "text/plain": [
       "0    0\n",
       "1    0\n",
       "Name: Is_Lead, dtype: int64"
      ]
     },
     "execution_count": 549,
     "metadata": {},
     "output_type": "execute_result"
    }
   ],
   "source": [
    "Y.head(2)"
   ]
  },
  {
   "cell_type": "code",
   "execution_count": 550,
   "id": "c555b6e8",
   "metadata": {},
   "outputs": [
    {
     "data": {
      "text/html": [
       "<div>\n",
       "<style scoped>\n",
       "    .dataframe tbody tr th:only-of-type {\n",
       "        vertical-align: middle;\n",
       "    }\n",
       "\n",
       "    .dataframe tbody tr th {\n",
       "        vertical-align: top;\n",
       "    }\n",
       "\n",
       "    .dataframe thead th {\n",
       "        text-align: right;\n",
       "    }\n",
       "</style>\n",
       "<table border=\"1\" class=\"dataframe\">\n",
       "  <thead>\n",
       "    <tr style=\"text-align: right;\">\n",
       "      <th></th>\n",
       "      <th>Gender</th>\n",
       "      <th>Age</th>\n",
       "      <th>Region_Code</th>\n",
       "      <th>Occupation</th>\n",
       "      <th>Channel_Code</th>\n",
       "      <th>Vintage</th>\n",
       "      <th>Credit_Product</th>\n",
       "      <th>Avg_Account_Balance</th>\n",
       "      <th>Is_Active</th>\n",
       "    </tr>\n",
       "  </thead>\n",
       "  <tbody>\n",
       "    <tr>\n",
       "      <th>0</th>\n",
       "      <td>-1.096931</td>\n",
       "      <td>1.965365</td>\n",
       "      <td>-0.172389</td>\n",
       "      <td>-1.292279</td>\n",
       "      <td>1.239925</td>\n",
       "      <td>-0.122373</td>\n",
       "      <td>-0.761626</td>\n",
       "      <td>-0.096968</td>\n",
       "      <td>-0.796872</td>\n",
       "    </tr>\n",
       "    <tr>\n",
       "      <th>1</th>\n",
       "      <td>-1.096931</td>\n",
       "      <td>-0.934429</td>\n",
       "      <td>0.655830</td>\n",
       "      <td>-0.120975</td>\n",
       "      <td>-1.020375</td>\n",
       "      <td>-0.462372</td>\n",
       "      <td>-0.761626</td>\n",
       "      <td>-0.640630</td>\n",
       "      <td>-0.796872</td>\n",
       "    </tr>\n",
       "  </tbody>\n",
       "</table>\n",
       "</div>"
      ],
      "text/plain": [
       "     Gender       Age  Region_Code  Occupation  Channel_Code   Vintage  \\\n",
       "0 -1.096931  1.965365    -0.172389   -1.292279      1.239925 -0.122373   \n",
       "1 -1.096931 -0.934429     0.655830   -0.120975     -1.020375 -0.462372   \n",
       "\n",
       "   Credit_Product  Avg_Account_Balance  Is_Active  \n",
       "0       -0.761626            -0.096968  -0.796872  \n",
       "1       -0.761626            -0.640630  -0.796872  "
      ]
     },
     "execution_count": 550,
     "metadata": {},
     "output_type": "execute_result"
    }
   ],
   "source": [
    "ss=StandardScaler()\n",
    "xs=pd.DataFrame(ss.fit_transform(X),columns=X.columns)\n",
    "xs.head(2)"
   ]
  },
  {
   "cell_type": "code",
   "execution_count": 551,
   "id": "51eafe96",
   "metadata": {},
   "outputs": [
    {
     "name": "stdout",
     "output_type": "stream",
     "text": [
      "Training Accuracy: 0.8474158103571066\n",
      "Testing Accuracy: 0.846657849221691\n",
      "Accuracy Score: 0.846657849221691\n",
      "Mean Accuracy: 0.8530399033822729\n",
      "Roc Auc Score: 0.727291209222674\n",
      "Precsion Score: 0.773342175066313\n",
      "Recall Score: 0.5001715560130383\n",
      "F_1 Score: 0.6074591103239921\n",
      "Classification Report \n",
      "               precision    recall  f1-score   support\n",
      "\n",
      "           0       0.86      0.95      0.90     37487\n",
      "           1       0.77      0.50      0.61     11658\n",
      "\n",
      "    accuracy                           0.85     49145\n",
      "   macro avg       0.82      0.73      0.76     49145\n",
      "weighted avg       0.84      0.85      0.83     49145\n",
      "\n",
      "Confusion Matrix [[35778  1709]\n",
      " [ 5827  5831]]\n"
     ]
    },
    {
     "data": {
      "image/png": "[encoded data removed]",
      "text/plain": [
       "<Figure size 432x288 with 1 Axes>"
      ]
     },
     "metadata": {},
     "output_type": "display_data"
    }
   ],
   "source": [
    "best_model(lr,xs,Y)"
   ]
  },
  {
   "cell_type": "markdown",
   "id": "f3ab03ca",
   "metadata": {},
   "source": [
    "# Apply Under Sampling(Manually)"
   ]
  },
  {
   "cell_type": "code",
   "execution_count": 552,
   "id": "2c744421",
   "metadata": {},
   "outputs": [
    {
     "name": "stdout",
     "output_type": "stream",
     "text": [
      " The majority class values are 187437\n",
      " The minority class values are 58288\n",
      " The ratio of both classes are 3.215704776283283\n"
     ]
    }
   ],
   "source": [
    "# To balance the dataset , we will apply undersampling method\n",
    "from sklearn.utils import resample\n",
    "# separate the minority and majority classes\n",
    "df_majority = df_train[df_train['Is_Lead']==0]\n",
    "df_minority = df_train[df_train['Is_Lead']==1]\n",
    "\n",
    "print(\" The majority class values are\", len(df_majority))\n",
    "print(\" The minority class values are\", len(df_minority))\n",
    "print(\" The ratio of both classes are\", len(df_majority)/len(df_minority))\n"
   ]
  },
  {
   "cell_type": "code",
   "execution_count": 553,
   "id": "250a25ae",
   "metadata": {},
   "outputs": [
    {
     "name": "stdout",
     "output_type": "stream",
     "text": [
      " The undersamples class values count is: 116576\n",
      " The ratio of both classes are 1.0\n"
     ]
    }
   ],
   "source": [
    "# undersample majority class\n",
    "df_majority_undersampled = resample(df_majority, replace=True, n_samples=len(df_minority), random_state=0)\n",
    "# combine minority class with oversampled majority class\n",
    "df_undersampled = pd.concat([df_minority, df_majority_undersampled])\n",
    "\n",
    "df_undersampled['Is_Lead'].value_counts()\n",
    "df_2=df_undersampled\n",
    "\n",
    "# display new class value counts\n",
    "print(\" The undersamples class values count is:\", len(df_undersampled))\n",
    "print(\" The ratio of both classes are\", len(df_undersampled[df_undersampled[\"Is_Lead\"]==0])/len(df_undersampled[df_undersampled[\"Is_Lead\"]==1]))"
   ]
  },
  {
   "cell_type": "code",
   "execution_count": 554,
   "id": "4c72fd7f",
   "metadata": {},
   "outputs": [
    {
     "data": {
      "text/plain": [
       "(116576, 10)"
      ]
     },
     "execution_count": 554,
     "metadata": {},
     "output_type": "execute_result"
    }
   ],
   "source": [
    "df_2.shape"
   ]
  },
  {
   "cell_type": "code",
   "execution_count": 555,
   "id": "9626012a",
   "metadata": {},
   "outputs": [],
   "source": [
    "# target variable\n",
    "yu = df_2['Is_Lead']\n",
    "xu = df_2.drop(['Is_Lead'], axis=1)\n"
   ]
  },
  {
   "cell_type": "code",
   "execution_count": 556,
   "id": "b8b93291",
   "metadata": {},
   "outputs": [],
   "source": [
    "xu=pd.DataFrame(ss.fit_transform(xu),columns=xu.columns)"
   ]
  },
  {
   "cell_type": "code",
   "execution_count": 557,
   "id": "50fb7261",
   "metadata": {},
   "outputs": [
    {
     "name": "stdout",
     "output_type": "stream",
     "text": [
      "Training Accuracy: 0.7880549002787904\n",
      "Testing Accuracy: 0.7845256476239493\n",
      "Accuracy Score: 0.7845256476239493\n",
      "Mean Accuracy: 0.8529191012498576\n",
      "Roc Auc Score: 0.784525647623949\n",
      "Precsion Score: 0.7915275092283354\n",
      "Recall Score: 0.7725167267112713\n",
      "F_1 Score: 0.7819065810036466\n",
      "Classification Report \n",
      "               precision    recall  f1-score   support\n",
      "\n",
      "           0       0.78      0.80      0.79     11658\n",
      "           1       0.79      0.77      0.78     11658\n",
      "\n",
      "    accuracy                           0.78     23316\n",
      "   macro avg       0.78      0.78      0.78     23316\n",
      "weighted avg       0.78      0.78      0.78     23316\n",
      "\n",
      "Confusion Matrix [[9286 2372]\n",
      " [2652 9006]]\n"
     ]
    },
    {
     "data": {
      "image/png": "[encoded data removed]",
      "text/plain": [
       "<Figure size 432x288 with 1 Axes>"
      ]
     },
     "metadata": {},
     "output_type": "display_data"
    }
   ],
   "source": [
    "best_model(lr,xu,yu)"
   ]
  },
  {
   "cell_type": "markdown",
   "id": "122ba919",
   "metadata": {},
   "source": [
    "# Apply Over Sampling(Manually)"
   ]
  },
  {
   "cell_type": "code",
   "execution_count": 558,
   "id": "42315487",
   "metadata": {},
   "outputs": [
    {
     "name": "stdout",
     "output_type": "stream",
     "text": [
      " The oversamples class values count is: 374874\n",
      " The ratio of both classes are 1.0\n"
     ]
    }
   ],
   "source": [
    "# undersample majority class\n",
    "df_minority_undersampled = resample(df_minority, replace=True, n_samples=len(df_majority), random_state=0)\n",
    "# combine minority class with oversampled majority class\n",
    "df_oversampled = pd.concat([df_majority, df_minority_undersampled])\n",
    "\n",
    "df_oversampled['Is_Lead'].value_counts()\n",
    "df_3=df_oversampled\n",
    "\n",
    "# display new class value counts\n",
    "print(\" The oversamples class values count is:\", len(df_oversampled))\n",
    "print(\" The ratio of both classes are\", len(df_undersampled[df_undersampled[\"Is_Lead\"]==0])/len(df_undersampled[df_undersampled[\"Is_Lead\"]==1]))"
   ]
  },
  {
   "cell_type": "code",
   "execution_count": 559,
   "id": "68860017",
   "metadata": {},
   "outputs": [
    {
     "data": {
      "text/plain": [
       "0    187437\n",
       "1    187437\n",
       "Name: Is_Lead, dtype: int64"
      ]
     },
     "execution_count": 559,
     "metadata": {},
     "output_type": "execute_result"
    }
   ],
   "source": [
    "df_3['Is_Lead'].value_counts()"
   ]
  },
  {
   "cell_type": "code",
   "execution_count": 560,
   "id": "9f880f2f",
   "metadata": {},
   "outputs": [
    {
     "data": {
      "text/plain": [
       "0    187437\n",
       "1     58288\n",
       "Name: Is_Lead, dtype: int64"
      ]
     },
     "execution_count": 560,
     "metadata": {},
     "output_type": "execute_result"
    }
   ],
   "source": [
    "df_train['Is_Lead'].value_counts()"
   ]
  },
  {
   "cell_type": "code",
   "execution_count": 561,
   "id": "8955bde6",
   "metadata": {},
   "outputs": [
    {
     "data": {
      "text/plain": [
       "((374874, 10), (245725, 10))"
      ]
     },
     "execution_count": 561,
     "metadata": {},
     "output_type": "execute_result"
    }
   ],
   "source": [
    "df_3.shape,df_train.shape"
   ]
  },
  {
   "cell_type": "code",
   "execution_count": 562,
   "id": "36418dea",
   "metadata": {},
   "outputs": [],
   "source": [
    "# target variable\n",
    "yo = df_3['Is_Lead']\n",
    "xo = df_3.drop(['Is_Lead'], axis=1)\n"
   ]
  },
  {
   "cell_type": "code",
   "execution_count": 563,
   "id": "dcee0bd1",
   "metadata": {},
   "outputs": [
    {
     "name": "stdout",
     "output_type": "stream",
     "text": [
      "Training Accuracy: 0.7892990640182195\n",
      "Testing Accuracy: 0.7870223407802601\n",
      "Accuracy Score: 0.7870223407802601\n",
      "Mean Accuracy: 0.8540779542452747\n",
      "Roc Auc Score: 0.7870222268887046\n",
      "Precsion Score: 0.792004776508264\n",
      "Recall Score: 0.7784832075119374\n",
      "F_1 Score: 0.7851857830871471\n",
      "Classification Report \n",
      "               precision    recall  f1-score   support\n",
      "\n",
      "           0       0.78      0.80      0.79     37488\n",
      "           1       0.79      0.78      0.79     37487\n",
      "\n",
      "    accuracy                           0.79     74975\n",
      "   macro avg       0.79      0.79      0.79     74975\n",
      "weighted avg       0.79      0.79      0.79     74975\n",
      "\n",
      "Confusion Matrix [[29824  7664]\n",
      " [ 8304 29183]]\n"
     ]
    },
    {
     "data": {
      "image/png": "[encoded data removed]",
      "text/plain": [
       "<Figure size 432x288 with 1 Axes>"
      ]
     },
     "metadata": {},
     "output_type": "display_data"
    }
   ],
   "source": [
    "xo=pd.DataFrame(ss.fit_transform(xo),columns=xo.columns)\n",
    "best_model(lr,xo,yo)"
   ]
  },
  {
   "cell_type": "markdown",
   "id": "f935b4d5",
   "metadata": {},
   "source": [
    "# Different Oversampling,Undersampling and Combine oversampling methods"
   ]
  },
  {
   "cell_type": "markdown",
   "id": "e875063b",
   "metadata": {},
   "source": [
    "## Tips\n",
    "\n",
    "#1-- 1st approach should be to split data in X and Y.\n",
    "\n",
    "#2-- If requried do scaling on whole data.\n",
    "\n",
    "#3-- Then apply sampling on scaled data."
   ]
  },
  {
   "cell_type": "markdown",
   "id": "a11c749e",
   "metadata": {},
   "source": [
    "# Balance data with the imbalanced-learn python module"
   ]
  },
  {
   "cell_type": "code",
   "execution_count": 564,
   "id": "63339956",
   "metadata": {},
   "outputs": [
    {
     "name": "stdout",
     "output_type": "stream",
     "text": [
      "original dataset shape: (245725,)\n",
      "Original Dataset Shape: \n",
      " 0    187437\n",
      "1     58288\n",
      "Name: Is_Lead, dtype: int64\n",
      "Resample dataset shape (116576,)\n",
      "Original Resample Shape: \n",
      " 0    58288\n",
      "1    58288\n",
      "Name: Is_Lead, dtype: int64\n"
     ]
    }
   ],
   "source": [
    "from imblearn.under_sampling import RandomUnderSampler\n",
    "\n",
    "rus = RandomUnderSampler(random_state=42, replacement=True)# fit predictor and target variable\n",
    "x_rus, y_rus = rus.fit_resample(X, Y)\n",
    "\n",
    "print('original dataset shape:',Y.shape)\n",
    "print(\"Original Dataset Shape: \\n\", Y.value_counts())\n",
    "print('Resample dataset shape', y_rus.shape)\n",
    "print(\"Original Resample Shape: \\n\", y_rus.value_counts())"
   ]
  },
  {
   "cell_type": "code",
   "execution_count": 565,
   "id": "f4e7df9b",
   "metadata": {},
   "outputs": [
    {
     "name": "stdout",
     "output_type": "stream",
     "text": [
      "Training Accuracy: 0.7887733218957752\n",
      "Testing Accuracy: 0.7808800823468862\n",
      "Accuracy Score: 0.7808800823468862\n",
      "Mean Accuracy: 0.8527086155303166\n",
      "Roc Auc Score: 0.7808800823468863\n",
      "Precsion Score: 0.7844670315350534\n",
      "Recall Score: 0.7745753988677303\n",
      "F_1 Score: 0.779489835556131\n",
      "Classification Report \n",
      "               precision    recall  f1-score   support\n",
      "\n",
      "           0       0.78      0.79      0.78     11658\n",
      "           1       0.78      0.77      0.78     11658\n",
      "\n",
      "    accuracy                           0.78     23316\n",
      "   macro avg       0.78      0.78      0.78     23316\n",
      "weighted avg       0.78      0.78      0.78     23316\n",
      "\n",
      "Confusion Matrix [[9177 2481]\n",
      " [2628 9030]]\n"
     ]
    },
    {
     "data": {
      "image/png": "[encoded data removed]",
      "text/plain": [
       "<Figure size 432x288 with 1 Axes>"
      ]
     },
     "metadata": {},
     "output_type": "display_data"
    }
   ],
   "source": [
    "x_rus=pd.DataFrame(ss.fit_transform(x_rus),columns=x_rus.columns)\n",
    "best_model(lr,x_rus,y_rus)"
   ]
  },
  {
   "cell_type": "markdown",
   "id": "9a4d572b",
   "metadata": {},
   "source": [
    "# Random over-sampling with imblearn"
   ]
  },
  {
   "cell_type": "code",
   "execution_count": 566,
   "id": "9aa43308",
   "metadata": {},
   "outputs": [
    {
     "name": "stdout",
     "output_type": "stream",
     "text": [
      "original dataset shape: (245725,)\n",
      "Original Dataset Shape: \n",
      " 0    187437\n",
      "1     58288\n",
      "Name: Is_Lead, dtype: int64\n",
      "Resample dataset shape (374874,)\n",
      "Original Resample Shape: \n",
      " 0    187437\n",
      "1    187437\n",
      "Name: Is_Lead, dtype: int64\n"
     ]
    }
   ],
   "source": [
    "from imblearn.over_sampling import RandomOverSampler\n",
    "\n",
    "ros = RandomOverSampler(random_state=42)\n",
    "\n",
    "x_ros, y_ros = ros.fit_resample(X, Y)\n",
    "\n",
    "print('original dataset shape:',Y.shape)\n",
    "print(\"Original Dataset Shape: \\n\", Y.value_counts())\n",
    "print('Resample dataset shape', y_ros.shape)\n",
    "print(\"Original Resample Shape: \\n\", y_ros.value_counts())"
   ]
  },
  {
   "cell_type": "code",
   "execution_count": 567,
   "id": "5575cbfb",
   "metadata": {},
   "outputs": [
    {
     "name": "stdout",
     "output_type": "stream",
     "text": [
      "Training Accuracy: 0.7877785521125446\n",
      "Testing Accuracy: 0.7879426475491831\n",
      "Accuracy Score: 0.7879426475491831\n",
      "Mean Accuracy: 0.8529660471477266\n",
      "Roc Auc Score: 0.7879425622991044\n",
      "Precsion Score: 0.7916666666666666\n",
      "Recall Score: 0.7815509376583882\n",
      "F_1 Score: 0.7865762802872674\n",
      "Classification Report \n",
      "               precision    recall  f1-score   support\n",
      "\n",
      "           0       0.78      0.79      0.79     37488\n",
      "           1       0.79      0.78      0.79     37487\n",
      "\n",
      "    accuracy                           0.79     74975\n",
      "   macro avg       0.79      0.79      0.79     74975\n",
      "weighted avg       0.79      0.79      0.79     74975\n",
      "\n",
      "Confusion Matrix [[29778  7710]\n",
      " [ 8189 29298]]\n"
     ]
    },
    {
     "data": {
      "image/png": "[encoded data removed]",
      "text/plain": [
       "<Figure size 432x288 with 1 Axes>"
      ]
     },
     "metadata": {},
     "output_type": "display_data"
    }
   ],
   "source": [
    "x_ros=pd.DataFrame(ss.fit_transform(x_ros),columns=x_rus.columns)\n",
    "best_model(lr,x_ros,y_ros)"
   ]
  },
  {
   "cell_type": "markdown",
   "id": "b87257cd",
   "metadata": {},
   "source": [
    "# Synthetic Minority Oversampling Technique (SMOTE)"
   ]
  },
  {
   "cell_type": "code",
   "execution_count": 568,
   "id": "af08db44",
   "metadata": {},
   "outputs": [
    {
     "name": "stdout",
     "output_type": "stream",
     "text": [
      "Original dataset shape (245725,)\n",
      "Resample dataset shape (374874,)\n",
      "Resample dataset shape 0    187437\n",
      "1    187437\n",
      "Name: Is_Lead, dtype: int64\n"
     ]
    }
   ],
   "source": [
    "from imblearn.over_sampling import SMOTE\n",
    "\n",
    "smote = SMOTE()\n",
    "\n",
    "# fit predictor and target variable\n",
    "x_smote, y_smote = smote.fit_resample(X, Y)\n",
    "\n",
    "print('Original dataset shape', Y.shape)\n",
    "print('Resample dataset shape', y_smote.shape)\n",
    "print('Resample dataset shape', y_smote.value_counts())"
   ]
  },
  {
   "cell_type": "code",
   "execution_count": 569,
   "id": "a94c3836",
   "metadata": {},
   "outputs": [
    {
     "name": "stdout",
     "output_type": "stream",
     "text": [
      "Training Accuracy: 0.7522499241411276\n",
      "Testing Accuracy: 0.7510103367789263\n",
      "Accuracy Score: 0.7510103367789263\n",
      "Mean Accuracy: 0.8275712143272951\n",
      "Roc Auc Score: 0.7510101695120577\n",
      "Precsion Score: 0.7574629928585109\n",
      "Recall Score: 0.7384693360364927\n",
      "F_1 Score: 0.7478455844611936\n",
      "Classification Report \n",
      "               precision    recall  f1-score   support\n",
      "\n",
      "           0       0.74      0.76      0.75     37488\n",
      "           1       0.76      0.74      0.75     37487\n",
      "\n",
      "    accuracy                           0.75     74975\n",
      "   macro avg       0.75      0.75      0.75     74975\n",
      "weighted avg       0.75      0.75      0.75     74975\n",
      "\n",
      "Confusion Matrix [[28624  8864]\n",
      " [ 9804 27683]]\n"
     ]
    },
    {
     "data": {
      "image/png": "[encoded data removed]",
      "text/plain": [
       "<Figure size 432x288 with 1 Axes>"
      ]
     },
     "metadata": {},
     "output_type": "display_data"
    }
   ],
   "source": [
    "x_smote=pd.DataFrame(ss.fit_transform(x_smote),columns=x_smote.columns)\n",
    "best_model(lr,x_smote,y_smote)"
   ]
  },
  {
   "cell_type": "markdown",
   "id": "6a6440a5",
   "metadata": {},
   "source": [
    "# Combining OverSampling and Undersampling by Imblearn"
   ]
  },
  {
   "cell_type": "code",
   "execution_count": 570,
   "id": "3f2fa85b",
   "metadata": {},
   "outputs": [
    {
     "name": "stdout",
     "output_type": "stream",
     "text": [
      "Original dataset shape (245725,)\n",
      "Resample dataset shape (340170,)\n",
      "Resample dataset shape 0    170085\n",
      "1    170085\n",
      "Name: Is_Lead, dtype: int64\n"
     ]
    }
   ],
   "source": [
    "from imblearn.combine import SMOTETomek\n",
    "smt=SMOTETomek()\n",
    "x_tom,y_tom=smt.fit_resample(X,Y)\n",
    "print('Original dataset shape', Y.shape)\n",
    "print('Resample dataset shape', y_tom.shape)\n",
    "print('Resample dataset shape', y_tom.value_counts())"
   ]
  },
  {
   "cell_type": "code",
   "execution_count": 571,
   "id": "31b39149",
   "metadata": {},
   "outputs": [
    {
     "name": "stdout",
     "output_type": "stream",
     "text": [
      "Training Accuracy: 0.7593115207102331\n",
      "Testing Accuracy: 0.7583120204603581\n",
      "Accuracy Score: 0.7583120204603581\n",
      "Mean Accuracy: 0.8357614771603249\n",
      "Roc Auc Score: 0.7583120204603581\n",
      "Precsion Score: 0.7649879372738239\n",
      "Recall Score: 0.745715377605315\n",
      "F_1 Score: 0.7552287241168852\n",
      "Classification Report \n",
      "               precision    recall  f1-score   support\n",
      "\n",
      "           0       0.75      0.77      0.76     34017\n",
      "           1       0.76      0.75      0.76     34017\n",
      "\n",
      "    accuracy                           0.76     68034\n",
      "   macro avg       0.76      0.76      0.76     68034\n",
      "weighted avg       0.76      0.76      0.76     68034\n",
      "\n",
      "Confusion Matrix [[26224  7793]\n",
      " [ 8650 25367]]\n"
     ]
    },
    {
     "data": {
      "image/png": "[encoded data removed]",
      "text/plain": [
       "<Figure size 432x288 with 1 Axes>"
      ]
     },
     "metadata": {},
     "output_type": "display_data"
    }
   ],
   "source": [
    "x_tom=pd.DataFrame(ss.fit_transform(x_tom),columns=x_tom.columns)\n",
    "best_model(lr,x_tom,y_tom)"
   ]
  },
  {
   "cell_type": "markdown",
   "id": "bc78e2ad",
   "metadata": {},
   "source": [
    "# SMOTEENN"
   ]
  },
  {
   "cell_type": "code",
   "execution_count": 582,
   "id": "1dc4933f",
   "metadata": {},
   "outputs": [
    {
     "name": "stdout",
     "output_type": "stream",
     "text": [
      "Original dataset shape (245725,)\n",
      "Resample dataset shape (340338,)\n",
      "Resample dataset shape 0    170169\n",
      "1    170169\n",
      "Name: Is_Lead, dtype: int64\n"
     ]
    }
   ],
   "source": [
    "## 1stly ovresample then standard scaling\n",
    "from imblearn.combine import SMOTEENN\n",
    "teen=SMOTEENN()\n",
    "x_een,y_een=smt.fit_resample(X,Y)\n",
    "print('Original dataset shape', Y.shape)\n",
    "print('Resample dataset shape', y_een.shape)\n",
    "print('Resample dataset shape', y_een.value_counts())"
   ]
  },
  {
   "cell_type": "code",
   "execution_count": 585,
   "id": "0bbcd8da",
   "metadata": {},
   "outputs": [
    {
     "name": "stdout",
     "output_type": "stream",
     "text": [
      "Training Accuracy: 0.7583024203915231\n",
      "Testing Accuracy: 0.7600340835634953\n",
      "Accuracy Score: 0.7600340835634953\n",
      "Mean Accuracy: 0.8351385793701966\n",
      "Roc Auc Score: 0.7600340835634952\n",
      "Precsion Score: 0.7653036752802925\n",
      "Recall Score: 0.7501028383381324\n",
      "F_1 Score: 0.7576270180436847\n",
      "Classification Report \n",
      "               precision    recall  f1-score   support\n",
      "\n",
      "           0       0.75      0.77      0.76     34034\n",
      "           1       0.77      0.75      0.76     34034\n",
      "\n",
      "    accuracy                           0.76     68068\n",
      "   macro avg       0.76      0.76      0.76     68068\n",
      "weighted avg       0.76      0.76      0.76     68068\n",
      "\n",
      "Confusion Matrix [[26205  7829]\n",
      " [ 8505 25529]]\n"
     ]
    },
    {
     "data": {
      "image/png": "[encoded data removed]",
      "text/plain": [
       "<Figure size 432x288 with 1 Axes>"
      ]
     },
     "metadata": {},
     "output_type": "display_data"
    }
   ],
   "source": [
    "dt_pt = pd.DataFrame(st.fit_transform(x_een),columns=x_een.columns)\n",
    "dt_pt\n",
    "\n",
    "best_model(lr,dt_pt,y_een)"
   ]
  },
  {
   "cell_type": "code",
   "execution_count": null,
   "id": "373faa9c",
   "metadata": {},
   "outputs": [],
   "source": []
  },
  {
   "cell_type": "code",
   "execution_count": 586,
   "id": "27688a54",
   "metadata": {},
   "outputs": [
    {
     "name": "stdout",
     "output_type": "stream",
     "text": [
      "Original dataset shape (245725,)\n",
      "Resample dataset shape (360156,)\n",
      "Resample dataset shape 0    180078\n",
      "1    180078\n",
      "Name: Is_Lead, dtype: int64\n"
     ]
    }
   ],
   "source": [
    "## 1st Standard Scaling then SMOTEENN\n",
    "x_ss=pd.DataFrame(ss.fit_transform(X),columns=X.columns)\n",
    "from imblearn.combine import SMOTEENN\n",
    "teen=SMOTEENN()\n",
    "x_teen,y_teen=smt.fit_resample(x_ss,Y)\n",
    "print('Original dataset shape', Y.shape)\n",
    "print('Resample dataset shape', y_teen.shape)\n",
    "print('Resample dataset shape', y_teen.value_counts())\n",
    "#best_model(lr,x_teen,y_teen)\n"
   ]
  },
  {
   "cell_type": "code",
   "execution_count": 587,
   "id": "455cae7d",
   "metadata": {},
   "outputs": [
    {
     "name": "stdout",
     "output_type": "stream",
     "text": [
      "Training Accuracy: 0.8001103691466175\n",
      "Testing Accuracy: 0.7981036206130608\n",
      "Accuracy Score: 0.7981036206130608\n",
      "Mean Accuracy: 0.865689844566311\n",
      "Roc Auc Score: 0.798103620613061\n",
      "Precsion Score: 0.8036254630807952\n",
      "Recall Score: 0.7890104398045313\n",
      "F_1 Score: 0.7962508931448505\n",
      "Classification Report \n",
      "               precision    recall  f1-score   support\n",
      "\n",
      "           0       0.79      0.81      0.80     36016\n",
      "           1       0.80      0.79      0.80     36016\n",
      "\n",
      "    accuracy                           0.80     72032\n",
      "   macro avg       0.80      0.80      0.80     72032\n",
      "weighted avg       0.80      0.80      0.80     72032\n",
      "\n",
      "Confusion Matrix [[29072  6944]\n",
      " [ 7599 28417]]\n"
     ]
    },
    {
     "data": {
      "image/png": "[encoded data removed]",
      "text/plain": [
       "<Figure size 432x288 with 1 Axes>"
      ]
     },
     "metadata": {},
     "output_type": "display_data"
    }
   ],
   "source": [
    "best_model(lr,x_teen,y_teen)"
   ]
  },
  {
   "cell_type": "markdown",
   "id": "c48641bf",
   "metadata": {},
   "source": [
    "# Tried Random Forest Classifier................."
   ]
  },
  {
   "cell_type": "code",
   "execution_count": 588,
   "id": "3c60f2cd",
   "metadata": {},
   "outputs": [
    {
     "name": "stdout",
     "output_type": "stream",
     "text": [
      "Training Accuracy: 0.9999791756327137\n",
      "Testing Accuracy: 0.9082768769435806\n",
      "Accuracy Score: 0.9082768769435806\n",
      "Mean Accuracy: 0.9651893108239152\n",
      "Roc Auc Score: 0.9082768769435806\n",
      "Precsion Score: 0.9122718479266549\n",
      "Recall Score: 0.9034318080852954\n",
      "F_1 Score: 0.9078303084413321\n",
      "Classification Report \n",
      "               precision    recall  f1-score   support\n",
      "\n",
      "           0       0.90      0.91      0.91     36016\n",
      "           1       0.91      0.90      0.91     36016\n",
      "\n",
      "    accuracy                           0.91     72032\n",
      "   macro avg       0.91      0.91      0.91     72032\n",
      "weighted avg       0.91      0.91      0.91     72032\n",
      "\n",
      "Confusion Matrix [[32887  3129]\n",
      " [ 3478 32538]]\n"
     ]
    },
    {
     "data": {
      "image/png": "[encoded data removed]",
      "text/plain": [
       "<Figure size 432x288 with 1 Axes>"
      ]
     },
     "metadata": {},
     "output_type": "display_data"
    }
   ],
   "source": [
    "rf=RandomForestClassifier()\n",
    "best_model(rf,x_teen,y_teen)"
   ]
  },
  {
   "cell_type": "code",
   "execution_count": 649,
   "id": "673379e8",
   "metadata": {},
   "outputs": [],
   "source": [
    "df_train['Probablity']=rf.predict_proba(x_ss)[:,1]"
   ]
  },
  {
   "cell_type": "code",
   "execution_count": 650,
   "id": "8f687085",
   "metadata": {},
   "outputs": [
    {
     "data": {
      "text/html": [
       "<div>\n",
       "<style scoped>\n",
       "    .dataframe tbody tr th:only-of-type {\n",
       "        vertical-align: middle;\n",
       "    }\n",
       "\n",
       "    .dataframe tbody tr th {\n",
       "        vertical-align: top;\n",
       "    }\n",
       "\n",
       "    .dataframe thead th {\n",
       "        text-align: right;\n",
       "    }\n",
       "</style>\n",
       "<table border=\"1\" class=\"dataframe\">\n",
       "  <thead>\n",
       "    <tr style=\"text-align: right;\">\n",
       "      <th></th>\n",
       "      <th>Gender</th>\n",
       "      <th>Age</th>\n",
       "      <th>Region_Code</th>\n",
       "      <th>Occupation</th>\n",
       "      <th>Channel_Code</th>\n",
       "      <th>Vintage</th>\n",
       "      <th>Credit_Product</th>\n",
       "      <th>Avg_Account_Balance</th>\n",
       "      <th>Is_Active</th>\n",
       "      <th>Is_Lead</th>\n",
       "      <th>Probablity</th>\n",
       "    </tr>\n",
       "  </thead>\n",
       "  <tbody>\n",
       "    <tr>\n",
       "      <th>6</th>\n",
       "      <td>1</td>\n",
       "      <td>62</td>\n",
       "      <td>32</td>\n",
       "      <td>1</td>\n",
       "      <td>2</td>\n",
       "      <td>20</td>\n",
       "      <td>2</td>\n",
       "      <td>1056750</td>\n",
       "      <td>1</td>\n",
       "      <td>1</td>\n",
       "      <td>0.97</td>\n",
       "    </tr>\n",
       "    <tr>\n",
       "      <th>15</th>\n",
       "      <td>1</td>\n",
       "      <td>33</td>\n",
       "      <td>18</td>\n",
       "      <td>3</td>\n",
       "      <td>1</td>\n",
       "      <td>69</td>\n",
       "      <td>2</td>\n",
       "      <td>517063</td>\n",
       "      <td>1</td>\n",
       "      <td>1</td>\n",
       "      <td>0.87</td>\n",
       "    </tr>\n",
       "    <tr>\n",
       "      <th>16</th>\n",
       "      <td>0</td>\n",
       "      <td>46</td>\n",
       "      <td>18</td>\n",
       "      <td>1</td>\n",
       "      <td>2</td>\n",
       "      <td>97</td>\n",
       "      <td>1</td>\n",
       "      <td>2282502</td>\n",
       "      <td>0</td>\n",
       "      <td>1</td>\n",
       "      <td>0.88</td>\n",
       "    </tr>\n",
       "    <tr>\n",
       "      <th>17</th>\n",
       "      <td>0</td>\n",
       "      <td>59</td>\n",
       "      <td>33</td>\n",
       "      <td>1</td>\n",
       "      <td>2</td>\n",
       "      <td>15</td>\n",
       "      <td>1</td>\n",
       "      <td>2384692</td>\n",
       "      <td>0</td>\n",
       "      <td>1</td>\n",
       "      <td>0.75</td>\n",
       "    </tr>\n",
       "    <tr>\n",
       "      <th>20</th>\n",
       "      <td>1</td>\n",
       "      <td>44</td>\n",
       "      <td>19</td>\n",
       "      <td>3</td>\n",
       "      <td>1</td>\n",
       "      <td>19</td>\n",
       "      <td>1</td>\n",
       "      <td>1001650</td>\n",
       "      <td>0</td>\n",
       "      <td>1</td>\n",
       "      <td>0.27</td>\n",
       "    </tr>\n",
       "    <tr>\n",
       "      <th>...</th>\n",
       "      <td>...</td>\n",
       "      <td>...</td>\n",
       "      <td>...</td>\n",
       "      <td>...</td>\n",
       "      <td>...</td>\n",
       "      <td>...</td>\n",
       "      <td>...</td>\n",
       "      <td>...</td>\n",
       "      <td>...</td>\n",
       "      <td>...</td>\n",
       "      <td>...</td>\n",
       "    </tr>\n",
       "    <tr>\n",
       "      <th>245697</th>\n",
       "      <td>1</td>\n",
       "      <td>43</td>\n",
       "      <td>7</td>\n",
       "      <td>2</td>\n",
       "      <td>0</td>\n",
       "      <td>50</td>\n",
       "      <td>0</td>\n",
       "      <td>551203</td>\n",
       "      <td>1</td>\n",
       "      <td>1</td>\n",
       "      <td>0.84</td>\n",
       "    </tr>\n",
       "    <tr>\n",
       "      <th>245699</th>\n",
       "      <td>1</td>\n",
       "      <td>53</td>\n",
       "      <td>4</td>\n",
       "      <td>1</td>\n",
       "      <td>1</td>\n",
       "      <td>19</td>\n",
       "      <td>2</td>\n",
       "      <td>1141825</td>\n",
       "      <td>1</td>\n",
       "      <td>1</td>\n",
       "      <td>0.98</td>\n",
       "    </tr>\n",
       "    <tr>\n",
       "      <th>245709</th>\n",
       "      <td>1</td>\n",
       "      <td>36</td>\n",
       "      <td>34</td>\n",
       "      <td>3</td>\n",
       "      <td>2</td>\n",
       "      <td>15</td>\n",
       "      <td>1</td>\n",
       "      <td>608110</td>\n",
       "      <td>1</td>\n",
       "      <td>1</td>\n",
       "      <td>0.31</td>\n",
       "    </tr>\n",
       "    <tr>\n",
       "      <th>245713</th>\n",
       "      <td>0</td>\n",
       "      <td>41</td>\n",
       "      <td>27</td>\n",
       "      <td>3</td>\n",
       "      <td>1</td>\n",
       "      <td>13</td>\n",
       "      <td>1</td>\n",
       "      <td>898170</td>\n",
       "      <td>1</td>\n",
       "      <td>1</td>\n",
       "      <td>0.94</td>\n",
       "    </tr>\n",
       "    <tr>\n",
       "      <th>245714</th>\n",
       "      <td>0</td>\n",
       "      <td>46</td>\n",
       "      <td>18</td>\n",
       "      <td>3</td>\n",
       "      <td>1</td>\n",
       "      <td>19</td>\n",
       "      <td>2</td>\n",
       "      <td>993195</td>\n",
       "      <td>0</td>\n",
       "      <td>1</td>\n",
       "      <td>0.96</td>\n",
       "    </tr>\n",
       "  </tbody>\n",
       "</table>\n",
       "<p>58288 rows × 11 columns</p>\n",
       "</div>"
      ],
      "text/plain": [
       "        Gender  Age  Region_Code  Occupation  Channel_Code  Vintage  \\\n",
       "6            1   62           32           1             2       20   \n",
       "15           1   33           18           3             1       69   \n",
       "16           0   46           18           1             2       97   \n",
       "17           0   59           33           1             2       15   \n",
       "20           1   44           19           3             1       19   \n",
       "...        ...  ...          ...         ...           ...      ...   \n",
       "245697       1   43            7           2             0       50   \n",
       "245699       1   53            4           1             1       19   \n",
       "245709       1   36           34           3             2       15   \n",
       "245713       0   41           27           3             1       13   \n",
       "245714       0   46           18           3             1       19   \n",
       "\n",
       "        Credit_Product  Avg_Account_Balance  Is_Active  Is_Lead  Probablity  \n",
       "6                    2              1056750          1        1        0.97  \n",
       "15                   2               517063          1        1        0.87  \n",
       "16                   1              2282502          0        1        0.88  \n",
       "17                   1              2384692          0        1        0.75  \n",
       "20                   1              1001650          0        1        0.27  \n",
       "...                ...                  ...        ...      ...         ...  \n",
       "245697               0               551203          1        1        0.84  \n",
       "245699               2              1141825          1        1        0.98  \n",
       "245709               1               608110          1        1        0.31  \n",
       "245713               1               898170          1        1        0.94  \n",
       "245714               2               993195          0        1        0.96  \n",
       "\n",
       "[58288 rows x 11 columns]"
      ]
     },
     "execution_count": 650,
     "metadata": {},
     "output_type": "execute_result"
    }
   ],
   "source": [
    "df_train[df_train['Is_Lead']==1]"
   ]
  },
  {
   "cell_type": "code",
   "execution_count": 651,
   "id": "01a153ef",
   "metadata": {},
   "outputs": [
    {
     "data": {
      "text/html": [
       "<div>\n",
       "<style scoped>\n",
       "    .dataframe tbody tr th:only-of-type {\n",
       "        vertical-align: middle;\n",
       "    }\n",
       "\n",
       "    .dataframe tbody tr th {\n",
       "        vertical-align: top;\n",
       "    }\n",
       "\n",
       "    .dataframe thead th {\n",
       "        text-align: right;\n",
       "    }\n",
       "</style>\n",
       "<table border=\"1\" class=\"dataframe\">\n",
       "  <thead>\n",
       "    <tr style=\"text-align: right;\">\n",
       "      <th></th>\n",
       "      <th>Gender</th>\n",
       "      <th>Age</th>\n",
       "      <th>Region_Code</th>\n",
       "      <th>Occupation</th>\n",
       "      <th>Channel_Code</th>\n",
       "      <th>Vintage</th>\n",
       "      <th>Credit_Product</th>\n",
       "      <th>Avg_Account_Balance</th>\n",
       "      <th>Is_Active</th>\n",
       "      <th>Is_Lead</th>\n",
       "      <th>Probablity</th>\n",
       "    </tr>\n",
       "  </thead>\n",
       "  <tbody>\n",
       "    <tr>\n",
       "      <th>0</th>\n",
       "      <td>0</td>\n",
       "      <td>73</td>\n",
       "      <td>18</td>\n",
       "      <td>1</td>\n",
       "      <td>2</td>\n",
       "      <td>43</td>\n",
       "      <td>0</td>\n",
       "      <td>1045696</td>\n",
       "      <td>0</td>\n",
       "      <td>0</td>\n",
       "      <td>0.03</td>\n",
       "    </tr>\n",
       "    <tr>\n",
       "      <th>1</th>\n",
       "      <td>0</td>\n",
       "      <td>30</td>\n",
       "      <td>27</td>\n",
       "      <td>2</td>\n",
       "      <td>0</td>\n",
       "      <td>32</td>\n",
       "      <td>0</td>\n",
       "      <td>581988</td>\n",
       "      <td>0</td>\n",
       "      <td>0</td>\n",
       "      <td>0.00</td>\n",
       "    </tr>\n",
       "    <tr>\n",
       "      <th>2</th>\n",
       "      <td>0</td>\n",
       "      <td>56</td>\n",
       "      <td>18</td>\n",
       "      <td>3</td>\n",
       "      <td>2</td>\n",
       "      <td>26</td>\n",
       "      <td>0</td>\n",
       "      <td>1484315</td>\n",
       "      <td>1</td>\n",
       "      <td>0</td>\n",
       "      <td>0.01</td>\n",
       "    </tr>\n",
       "    <tr>\n",
       "      <th>3</th>\n",
       "      <td>1</td>\n",
       "      <td>34</td>\n",
       "      <td>20</td>\n",
       "      <td>2</td>\n",
       "      <td>0</td>\n",
       "      <td>19</td>\n",
       "      <td>0</td>\n",
       "      <td>470454</td>\n",
       "      <td>0</td>\n",
       "      <td>0</td>\n",
       "      <td>0.09</td>\n",
       "    </tr>\n",
       "    <tr>\n",
       "      <th>4</th>\n",
       "      <td>0</td>\n",
       "      <td>30</td>\n",
       "      <td>32</td>\n",
       "      <td>2</td>\n",
       "      <td>0</td>\n",
       "      <td>33</td>\n",
       "      <td>0</td>\n",
       "      <td>886787</td>\n",
       "      <td>0</td>\n",
       "      <td>0</td>\n",
       "      <td>0.00</td>\n",
       "    </tr>\n",
       "    <tr>\n",
       "      <th>...</th>\n",
       "      <td>...</td>\n",
       "      <td>...</td>\n",
       "      <td>...</td>\n",
       "      <td>...</td>\n",
       "      <td>...</td>\n",
       "      <td>...</td>\n",
       "      <td>...</td>\n",
       "      <td>...</td>\n",
       "      <td>...</td>\n",
       "      <td>...</td>\n",
       "      <td>...</td>\n",
       "    </tr>\n",
       "    <tr>\n",
       "      <th>245720</th>\n",
       "      <td>1</td>\n",
       "      <td>51</td>\n",
       "      <td>34</td>\n",
       "      <td>3</td>\n",
       "      <td>2</td>\n",
       "      <td>109</td>\n",
       "      <td>2</td>\n",
       "      <td>1925586</td>\n",
       "      <td>0</td>\n",
       "      <td>0</td>\n",
       "      <td>0.94</td>\n",
       "    </tr>\n",
       "    <tr>\n",
       "      <th>245721</th>\n",
       "      <td>1</td>\n",
       "      <td>27</td>\n",
       "      <td>18</td>\n",
       "      <td>2</td>\n",
       "      <td>0</td>\n",
       "      <td>15</td>\n",
       "      <td>0</td>\n",
       "      <td>862952</td>\n",
       "      <td>1</td>\n",
       "      <td>0</td>\n",
       "      <td>0.01</td>\n",
       "    </tr>\n",
       "    <tr>\n",
       "      <th>245722</th>\n",
       "      <td>0</td>\n",
       "      <td>26</td>\n",
       "      <td>31</td>\n",
       "      <td>2</td>\n",
       "      <td>0</td>\n",
       "      <td>13</td>\n",
       "      <td>0</td>\n",
       "      <td>670659</td>\n",
       "      <td>0</td>\n",
       "      <td>0</td>\n",
       "      <td>0.02</td>\n",
       "    </tr>\n",
       "    <tr>\n",
       "      <th>245723</th>\n",
       "      <td>0</td>\n",
       "      <td>28</td>\n",
       "      <td>23</td>\n",
       "      <td>2</td>\n",
       "      <td>0</td>\n",
       "      <td>31</td>\n",
       "      <td>0</td>\n",
       "      <td>407504</td>\n",
       "      <td>0</td>\n",
       "      <td>0</td>\n",
       "      <td>0.00</td>\n",
       "    </tr>\n",
       "    <tr>\n",
       "      <th>245724</th>\n",
       "      <td>1</td>\n",
       "      <td>29</td>\n",
       "      <td>19</td>\n",
       "      <td>2</td>\n",
       "      <td>0</td>\n",
       "      <td>21</td>\n",
       "      <td>0</td>\n",
       "      <td>1129276</td>\n",
       "      <td>0</td>\n",
       "      <td>0</td>\n",
       "      <td>0.02</td>\n",
       "    </tr>\n",
       "  </tbody>\n",
       "</table>\n",
       "<p>187437 rows × 11 columns</p>\n",
       "</div>"
      ],
      "text/plain": [
       "        Gender  Age  Region_Code  Occupation  Channel_Code  Vintage  \\\n",
       "0            0   73           18           1             2       43   \n",
       "1            0   30           27           2             0       32   \n",
       "2            0   56           18           3             2       26   \n",
       "3            1   34           20           2             0       19   \n",
       "4            0   30           32           2             0       33   \n",
       "...        ...  ...          ...         ...           ...      ...   \n",
       "245720       1   51           34           3             2      109   \n",
       "245721       1   27           18           2             0       15   \n",
       "245722       0   26           31           2             0       13   \n",
       "245723       0   28           23           2             0       31   \n",
       "245724       1   29           19           2             0       21   \n",
       "\n",
       "        Credit_Product  Avg_Account_Balance  Is_Active  Is_Lead  Probablity  \n",
       "0                    0              1045696          0        0        0.03  \n",
       "1                    0               581988          0        0        0.00  \n",
       "2                    0              1484315          1        0        0.01  \n",
       "3                    0               470454          0        0        0.09  \n",
       "4                    0               886787          0        0        0.00  \n",
       "...                ...                  ...        ...      ...         ...  \n",
       "245720               2              1925586          0        0        0.94  \n",
       "245721               0               862952          1        0        0.01  \n",
       "245722               0               670659          0        0        0.02  \n",
       "245723               0               407504          0        0        0.00  \n",
       "245724               0              1129276          0        0        0.02  \n",
       "\n",
       "[187437 rows x 11 columns]"
      ]
     },
     "execution_count": 651,
     "metadata": {},
     "output_type": "execute_result"
    }
   ],
   "source": [
    "df_train[df_train['Is_Lead']==0]"
   ]
  },
  {
   "cell_type": "code",
   "execution_count": 662,
   "id": "6c7755fe",
   "metadata": {},
   "outputs": [],
   "source": [
    "df_train.to_csv(\"result_training.csv\")"
   ]
  },
  {
   "cell_type": "code",
   "execution_count": 640,
   "id": "f1bcfe18",
   "metadata": {},
   "outputs": [
    {
     "data": {
      "text/plain": [
       "78973"
      ]
     },
     "execution_count": 640,
     "metadata": {},
     "output_type": "execute_result"
    }
   ],
   "source": [
    "62572+16401"
   ]
  },
  {
   "cell_type": "code",
   "execution_count": 652,
   "id": "a7cb0795",
   "metadata": {},
   "outputs": [
    {
     "data": {
      "text/plain": [
       "(245725, 11)"
      ]
     },
     "execution_count": 652,
     "metadata": {},
     "output_type": "execute_result"
    }
   ],
   "source": [
    "df_train.shape"
   ]
  },
  {
   "cell_type": "code",
   "execution_count": 653,
   "id": "c01010ba",
   "metadata": {},
   "outputs": [
    {
     "data": {
      "text/plain": [
       "(187437, 11)"
      ]
     },
     "execution_count": 653,
     "metadata": {},
     "output_type": "execute_result"
    }
   ],
   "source": [
    "df_train[df_train['Is_Lead']==0].shape"
   ]
  },
  {
   "cell_type": "code",
   "execution_count": 654,
   "id": "12a2b350",
   "metadata": {},
   "outputs": [
    {
     "data": {
      "text/plain": [
       "(58288, 11)"
      ]
     },
     "execution_count": 654,
     "metadata": {},
     "output_type": "execute_result"
    }
   ],
   "source": [
    "df_train[df_train['Is_Lead']==1].shape"
   ]
  },
  {
   "cell_type": "code",
   "execution_count": 655,
   "id": "9c8667ac",
   "metadata": {},
   "outputs": [
    {
     "data": {
      "text/plain": [
       "(53050, 11)"
      ]
     },
     "execution_count": 655,
     "metadata": {},
     "output_type": "execute_result"
    }
   ],
   "source": [
    "df_train[(df_train['Is_Lead']==1) & (df_train['Probablity']>0.5)].shape"
   ]
  },
  {
   "cell_type": "code",
   "execution_count": 656,
   "id": "b7929a0c",
   "metadata": {},
   "outputs": [
    {
     "data": {
      "text/plain": [
       "(5161, 11)"
      ]
     },
     "execution_count": 656,
     "metadata": {},
     "output_type": "execute_result"
    }
   ],
   "source": [
    "df_train[(df_train['Is_Lead']==1) & (df_train['Probablity']<0.5)].shape"
   ]
  },
  {
   "cell_type": "code",
   "execution_count": 657,
   "id": "e7a1d99b",
   "metadata": {},
   "outputs": [
    {
     "data": {
      "text/plain": [
       "(182236, 11)"
      ]
     },
     "execution_count": 657,
     "metadata": {},
     "output_type": "execute_result"
    }
   ],
   "source": [
    "df_train[(df_train['Is_Lead']==0) & (df_train['Probablity']<0.5)].shape"
   ]
  },
  {
   "cell_type": "code",
   "execution_count": 658,
   "id": "434bbb6b",
   "metadata": {},
   "outputs": [
    {
     "data": {
      "text/plain": [
       "(5009, 11)"
      ]
     },
     "execution_count": 658,
     "metadata": {},
     "output_type": "execute_result"
    }
   ],
   "source": [
    "df_train[(df_train['Is_Lead']==0) & (df_train['Probablity']>0.5)].shape"
   ]
  },
  {
   "cell_type": "code",
   "execution_count": 659,
   "id": "459bdaa9",
   "metadata": {},
   "outputs": [
    {
     "data": {
      "text/plain": [
       "(58059, 11)"
      ]
     },
     "execution_count": 659,
     "metadata": {},
     "output_type": "execute_result"
    }
   ],
   "source": [
    "df_train[df_train['Probablity']>.5].shape"
   ]
  },
  {
   "cell_type": "code",
   "execution_count": 660,
   "id": "23a2e3a2",
   "metadata": {},
   "outputs": [
    {
     "data": {
      "text/plain": [
       "(187397, 11)"
      ]
     },
     "execution_count": 660,
     "metadata": {},
     "output_type": "execute_result"
    }
   ],
   "source": [
    "df_train[df_train['Probablity']<.5].shape"
   ]
  },
  {
   "cell_type": "markdown",
   "id": "2d8463bf",
   "metadata": {},
   "source": [
    "# Loading the test Model"
   ]
  },
  {
   "cell_type": "code",
   "execution_count": 611,
   "id": "581b255f",
   "metadata": {},
   "outputs": [
    {
     "data": {
      "text/html": [
       "<div>\n",
       "<style scoped>\n",
       "    .dataframe tbody tr th:only-of-type {\n",
       "        vertical-align: middle;\n",
       "    }\n",
       "\n",
       "    .dataframe tbody tr th {\n",
       "        vertical-align: top;\n",
       "    }\n",
       "\n",
       "    .dataframe thead th {\n",
       "        text-align: right;\n",
       "    }\n",
       "</style>\n",
       "<table border=\"1\" class=\"dataframe\">\n",
       "  <thead>\n",
       "    <tr style=\"text-align: right;\">\n",
       "      <th></th>\n",
       "      <th>ID</th>\n",
       "      <th>Gender</th>\n",
       "      <th>Age</th>\n",
       "      <th>Region_Code</th>\n",
       "      <th>Occupation</th>\n",
       "      <th>Channel_Code</th>\n",
       "      <th>Vintage</th>\n",
       "      <th>Credit_Product</th>\n",
       "      <th>Avg_Account_Balance</th>\n",
       "      <th>Is_Active</th>\n",
       "    </tr>\n",
       "  </thead>\n",
       "  <tbody>\n",
       "    <tr>\n",
       "      <th>0</th>\n",
       "      <td>VBENBARO</td>\n",
       "      <td>Male</td>\n",
       "      <td>29</td>\n",
       "      <td>RG254</td>\n",
       "      <td>Other</td>\n",
       "      <td>X1</td>\n",
       "      <td>25</td>\n",
       "      <td>Yes</td>\n",
       "      <td>742366</td>\n",
       "      <td>No</td>\n",
       "    </tr>\n",
       "    <tr>\n",
       "      <th>1</th>\n",
       "      <td>CCMEWNKY</td>\n",
       "      <td>Male</td>\n",
       "      <td>43</td>\n",
       "      <td>RG268</td>\n",
       "      <td>Other</td>\n",
       "      <td>X2</td>\n",
       "      <td>49</td>\n",
       "      <td>NaN</td>\n",
       "      <td>925537</td>\n",
       "      <td>No</td>\n",
       "    </tr>\n",
       "    <tr>\n",
       "      <th>2</th>\n",
       "      <td>VK3KGA9M</td>\n",
       "      <td>Male</td>\n",
       "      <td>31</td>\n",
       "      <td>RG270</td>\n",
       "      <td>Salaried</td>\n",
       "      <td>X1</td>\n",
       "      <td>14</td>\n",
       "      <td>No</td>\n",
       "      <td>215949</td>\n",
       "      <td>No</td>\n",
       "    </tr>\n",
       "    <tr>\n",
       "      <th>3</th>\n",
       "      <td>TT8RPZVC</td>\n",
       "      <td>Male</td>\n",
       "      <td>29</td>\n",
       "      <td>RG272</td>\n",
       "      <td>Other</td>\n",
       "      <td>X1</td>\n",
       "      <td>33</td>\n",
       "      <td>No</td>\n",
       "      <td>868070</td>\n",
       "      <td>No</td>\n",
       "    </tr>\n",
       "    <tr>\n",
       "      <th>4</th>\n",
       "      <td>SHQZEYTZ</td>\n",
       "      <td>Female</td>\n",
       "      <td>29</td>\n",
       "      <td>RG270</td>\n",
       "      <td>Other</td>\n",
       "      <td>X1</td>\n",
       "      <td>19</td>\n",
       "      <td>No</td>\n",
       "      <td>657087</td>\n",
       "      <td>No</td>\n",
       "    </tr>\n",
       "  </tbody>\n",
       "</table>\n",
       "</div>"
      ],
      "text/plain": [
       "         ID  Gender  Age Region_Code Occupation Channel_Code  Vintage  \\\n",
       "0  VBENBARO    Male   29       RG254      Other           X1       25   \n",
       "1  CCMEWNKY    Male   43       RG268      Other           X2       49   \n",
       "2  VK3KGA9M    Male   31       RG270   Salaried           X1       14   \n",
       "3  TT8RPZVC    Male   29       RG272      Other           X1       33   \n",
       "4  SHQZEYTZ  Female   29       RG270      Other           X1       19   \n",
       "\n",
       "  Credit_Product  Avg_Account_Balance Is_Active  \n",
       "0            Yes               742366        No  \n",
       "1            NaN               925537        No  \n",
       "2             No               215949        No  \n",
       "3             No               868070        No  \n",
       "4             No               657087        No  "
      ]
     },
     "execution_count": 611,
     "metadata": {},
     "output_type": "execute_result"
    }
   ],
   "source": [
    "df_test=pd.read_csv(\"test_mSzZ8RL.csv\")\n",
    "df_test.head()"
   ]
  },
  {
   "cell_type": "code",
   "execution_count": 612,
   "id": "15d09dcc",
   "metadata": {},
   "outputs": [
    {
     "data": {
      "text/html": [
       "<div>\n",
       "<style scoped>\n",
       "    .dataframe tbody tr th:only-of-type {\n",
       "        vertical-align: middle;\n",
       "    }\n",
       "\n",
       "    .dataframe tbody tr th {\n",
       "        vertical-align: top;\n",
       "    }\n",
       "\n",
       "    .dataframe thead th {\n",
       "        text-align: right;\n",
       "    }\n",
       "</style>\n",
       "<table border=\"1\" class=\"dataframe\">\n",
       "  <thead>\n",
       "    <tr style=\"text-align: right;\">\n",
       "      <th></th>\n",
       "      <th>Gender</th>\n",
       "      <th>Age</th>\n",
       "      <th>Region_Code</th>\n",
       "      <th>Occupation</th>\n",
       "      <th>Channel_Code</th>\n",
       "      <th>Vintage</th>\n",
       "      <th>Credit_Product</th>\n",
       "      <th>Avg_Account_Balance</th>\n",
       "      <th>Is_Active</th>\n",
       "    </tr>\n",
       "  </thead>\n",
       "  <tbody>\n",
       "    <tr>\n",
       "      <th>0</th>\n",
       "      <td>0.908299</td>\n",
       "      <td>-0.999878</td>\n",
       "      <td>-1.451764</td>\n",
       "      <td>-1.294862</td>\n",
       "      <td>-1.019283</td>\n",
       "      <td>-0.676804</td>\n",
       "      <td>0.668140</td>\n",
       "      <td>-0.452333</td>\n",
       "      <td>-0.806682</td>\n",
       "    </tr>\n",
       "    <tr>\n",
       "      <th>1</th>\n",
       "      <td>0.908299</td>\n",
       "      <td>-0.058563</td>\n",
       "      <td>-0.167798</td>\n",
       "      <td>-1.294862</td>\n",
       "      <td>0.112272</td>\n",
       "      <td>0.066841</td>\n",
       "      <td>2.101608</td>\n",
       "      <td>-0.240878</td>\n",
       "      <td>-0.806682</td>\n",
       "    </tr>\n",
       "    <tr>\n",
       "      <th>2</th>\n",
       "      <td>0.908299</td>\n",
       "      <td>-0.865404</td>\n",
       "      <td>0.015626</td>\n",
       "      <td>-0.121541</td>\n",
       "      <td>-1.019283</td>\n",
       "      <td>-1.017641</td>\n",
       "      <td>-0.765327</td>\n",
       "      <td>-1.060037</td>\n",
       "      <td>-0.806682</td>\n",
       "    </tr>\n",
       "    <tr>\n",
       "      <th>3</th>\n",
       "      <td>0.908299</td>\n",
       "      <td>-0.999878</td>\n",
       "      <td>0.199050</td>\n",
       "      <td>-1.294862</td>\n",
       "      <td>-1.019283</td>\n",
       "      <td>-0.428922</td>\n",
       "      <td>-0.765327</td>\n",
       "      <td>-0.307219</td>\n",
       "      <td>-0.806682</td>\n",
       "    </tr>\n",
       "    <tr>\n",
       "      <th>4</th>\n",
       "      <td>-1.100959</td>\n",
       "      <td>-0.999878</td>\n",
       "      <td>0.015626</td>\n",
       "      <td>-1.294862</td>\n",
       "      <td>-1.019283</td>\n",
       "      <td>-0.862715</td>\n",
       "      <td>-0.765327</td>\n",
       "      <td>-0.550781</td>\n",
       "      <td>-0.806682</td>\n",
       "    </tr>\n",
       "  </tbody>\n",
       "</table>\n",
       "</div>"
      ],
      "text/plain": [
       "     Gender       Age  Region_Code  Occupation  Channel_Code   Vintage  \\\n",
       "0  0.908299 -0.999878    -1.451764   -1.294862     -1.019283 -0.676804   \n",
       "1  0.908299 -0.058563    -0.167798   -1.294862      0.112272  0.066841   \n",
       "2  0.908299 -0.865404     0.015626   -0.121541     -1.019283 -1.017641   \n",
       "3  0.908299 -0.999878     0.199050   -1.294862     -1.019283 -0.428922   \n",
       "4 -1.100959 -0.999878     0.015626   -1.294862     -1.019283 -0.862715   \n",
       "\n",
       "   Credit_Product  Avg_Account_Balance  Is_Active  \n",
       "0        0.668140            -0.452333  -0.806682  \n",
       "1        2.101608            -0.240878  -0.806682  \n",
       "2       -0.765327            -1.060037  -0.806682  \n",
       "3       -0.765327            -0.307219  -0.806682  \n",
       "4       -0.765327            -0.550781  -0.806682  "
      ]
     },
     "execution_count": 612,
     "metadata": {},
     "output_type": "execute_result"
    }
   ],
   "source": [
    "## Applying same operations\n",
    "\n",
    "df_test.replace(np.nan,'unknown',inplace=True)\n",
    "\n",
    "le=LabelEncoder()\n",
    "for col in categorical_col.columns:\n",
    "         df_test[col]=le.fit_transform(df_test[col])\n",
    "df_test1=df_test.drop(['ID'],axis=1)\n",
    "x_test=pd.DataFrame(ss.fit_transform(df_test1),columns=df_test1.columns)\n",
    "x_test.head()"
   ]
  },
  {
   "cell_type": "code",
   "execution_count": 670,
   "id": "bf02036b",
   "metadata": {},
   "outputs": [
    {
     "data": {
      "text/html": [
       "<div>\n",
       "<style scoped>\n",
       "    .dataframe tbody tr th:only-of-type {\n",
       "        vertical-align: middle;\n",
       "    }\n",
       "\n",
       "    .dataframe tbody tr th {\n",
       "        vertical-align: top;\n",
       "    }\n",
       "\n",
       "    .dataframe thead th {\n",
       "        text-align: right;\n",
       "    }\n",
       "</style>\n",
       "<table border=\"1\" class=\"dataframe\">\n",
       "  <thead>\n",
       "    <tr style=\"text-align: right;\">\n",
       "      <th></th>\n",
       "      <th>ID</th>\n",
       "      <th>Probablity</th>\n",
       "      <th>Lead_prediction</th>\n",
       "    </tr>\n",
       "  </thead>\n",
       "  <tbody>\n",
       "    <tr>\n",
       "      <th>0</th>\n",
       "      <td>VBENBARO</td>\n",
       "      <td>0.15</td>\n",
       "      <td>0</td>\n",
       "    </tr>\n",
       "    <tr>\n",
       "      <th>1</th>\n",
       "      <td>CCMEWNKY</td>\n",
       "      <td>1.00</td>\n",
       "      <td>1</td>\n",
       "    </tr>\n",
       "    <tr>\n",
       "      <th>2</th>\n",
       "      <td>VK3KGA9M</td>\n",
       "      <td>0.49</td>\n",
       "      <td>0</td>\n",
       "    </tr>\n",
       "    <tr>\n",
       "      <th>3</th>\n",
       "      <td>TT8RPZVC</td>\n",
       "      <td>0.45</td>\n",
       "      <td>0</td>\n",
       "    </tr>\n",
       "    <tr>\n",
       "      <th>4</th>\n",
       "      <td>SHQZEYTZ</td>\n",
       "      <td>0.59</td>\n",
       "      <td>1</td>\n",
       "    </tr>\n",
       "  </tbody>\n",
       "</table>\n",
       "</div>"
      ],
      "text/plain": [
       "         ID  Probablity  Lead_prediction\n",
       "0  VBENBARO        0.15                0\n",
       "1  CCMEWNKY        1.00                1\n",
       "2  VK3KGA9M        0.49                0\n",
       "3  TT8RPZVC        0.45                0\n",
       "4  SHQZEYTZ        0.59                1"
      ]
     },
     "execution_count": 670,
     "metadata": {},
     "output_type": "execute_result"
    }
   ],
   "source": [
    "lead_proba=rf.predict_proba(x_test)[:,1]\n",
    "prediction=rf.predict(x_test)\n",
    "final=pd.DataFrame()\n",
    "final['ID']=df_test['ID']\n",
    "final['Probablity']=lead_proba\n",
    "final['Lead_prediction']=prediction\n",
    "\n",
    "final.head()"
   ]
  },
  {
   "cell_type": "code",
   "execution_count": 672,
   "id": "0e3d3cce",
   "metadata": {},
   "outputs": [],
   "source": [
    "final.to_csv(\"result_testing.csv\")"
   ]
  },
  {
   "cell_type": "code",
   "execution_count": 618,
   "id": "31abe8aa",
   "metadata": {},
   "outputs": [
    {
     "data": {
      "text/plain": [
       "['rf_model.pkl']"
      ]
     },
     "execution_count": 618,
     "metadata": {},
     "output_type": "execute_result"
    }
   ],
   "source": [
    "#Saving the model :\n",
    "    \n",
    "import joblib\n",
    "#save the model as a pickle in a file \n",
    "joblib.dump('Lead_1','rf_model.pkl')"
   ]
  },
  {
   "cell_type": "code",
   "execution_count": null,
   "id": "4e3686d1",
   "metadata": {},
   "outputs": [],
   "source": []
  }
 ],
 "metadata": {
  "kernelspec": {
   "display_name": "Python 3 (ipykernel)",
   "language": "python",
   "name": "python3"
  },
  "language_info": {
   "codemirror_mode": {
    "name": "ipython",
    "version": 3
   },
   "file_extension": ".py",
   "mimetype": "text/x-python",
   "name": "python",
   "nbconvert_exporter": "python",
   "pygments_lexer": "ipython3",
   "version": "3.9.7"
  }
 },
 "nbformat": 4,
 "nbformat_minor": 5
}
